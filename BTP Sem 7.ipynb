{
 "cells": [
  {
   "cell_type": "code",
   "execution_count": 1,
   "id": "070754fc",
   "metadata": {},
   "outputs": [],
   "source": [
    "import numpy as np\n",
    "import pandas as pd \n",
    "from matplotlib import pyplot as plt\n",
    "import seaborn as sns"
   ]
  },
  {
   "cell_type": "code",
   "execution_count": 2,
   "id": "ec8e9f82",
   "metadata": {},
   "outputs": [
    {
     "data": {
      "text/html": [
       "<div>\n",
       "<style scoped>\n",
       "    .dataframe tbody tr th:only-of-type {\n",
       "        vertical-align: middle;\n",
       "    }\n",
       "\n",
       "    .dataframe tbody tr th {\n",
       "        vertical-align: top;\n",
       "    }\n",
       "\n",
       "    .dataframe thead th {\n",
       "        text-align: right;\n",
       "    }\n",
       "</style>\n",
       "<table border=\"1\" class=\"dataframe\">\n",
       "  <thead>\n",
       "    <tr style=\"text-align: right;\">\n",
       "      <th></th>\n",
       "      <th>Q1A</th>\n",
       "      <th>Q1I</th>\n",
       "      <th>Q1E</th>\n",
       "      <th>Q2A</th>\n",
       "      <th>Q2I</th>\n",
       "      <th>Q2E</th>\n",
       "      <th>Q3A</th>\n",
       "      <th>Q3I</th>\n",
       "      <th>Q3E</th>\n",
       "      <th>Q4A</th>\n",
       "      <th>...</th>\n",
       "      <th>screensize</th>\n",
       "      <th>uniquenetworklocation</th>\n",
       "      <th>hand</th>\n",
       "      <th>religion</th>\n",
       "      <th>orientation</th>\n",
       "      <th>race</th>\n",
       "      <th>voted</th>\n",
       "      <th>married</th>\n",
       "      <th>familysize</th>\n",
       "      <th>major</th>\n",
       "    </tr>\n",
       "  </thead>\n",
       "  <tbody>\n",
       "    <tr>\n",
       "      <th>0</th>\n",
       "      <td>4</td>\n",
       "      <td>28</td>\n",
       "      <td>3890</td>\n",
       "      <td>4</td>\n",
       "      <td>25</td>\n",
       "      <td>2122</td>\n",
       "      <td>2</td>\n",
       "      <td>16</td>\n",
       "      <td>1944</td>\n",
       "      <td>4</td>\n",
       "      <td>...</td>\n",
       "      <td>1</td>\n",
       "      <td>1</td>\n",
       "      <td>1</td>\n",
       "      <td>12</td>\n",
       "      <td>1</td>\n",
       "      <td>10</td>\n",
       "      <td>2</td>\n",
       "      <td>1</td>\n",
       "      <td>2</td>\n",
       "      <td>NaN</td>\n",
       "    </tr>\n",
       "    <tr>\n",
       "      <th>1</th>\n",
       "      <td>4</td>\n",
       "      <td>2</td>\n",
       "      <td>8118</td>\n",
       "      <td>1</td>\n",
       "      <td>36</td>\n",
       "      <td>2890</td>\n",
       "      <td>2</td>\n",
       "      <td>35</td>\n",
       "      <td>4777</td>\n",
       "      <td>3</td>\n",
       "      <td>...</td>\n",
       "      <td>2</td>\n",
       "      <td>1</td>\n",
       "      <td>2</td>\n",
       "      <td>7</td>\n",
       "      <td>0</td>\n",
       "      <td>70</td>\n",
       "      <td>2</td>\n",
       "      <td>1</td>\n",
       "      <td>4</td>\n",
       "      <td>NaN</td>\n",
       "    </tr>\n",
       "    <tr>\n",
       "      <th>2</th>\n",
       "      <td>3</td>\n",
       "      <td>7</td>\n",
       "      <td>5784</td>\n",
       "      <td>1</td>\n",
       "      <td>33</td>\n",
       "      <td>4373</td>\n",
       "      <td>4</td>\n",
       "      <td>41</td>\n",
       "      <td>3242</td>\n",
       "      <td>1</td>\n",
       "      <td>...</td>\n",
       "      <td>2</td>\n",
       "      <td>1</td>\n",
       "      <td>1</td>\n",
       "      <td>4</td>\n",
       "      <td>3</td>\n",
       "      <td>60</td>\n",
       "      <td>1</td>\n",
       "      <td>1</td>\n",
       "      <td>3</td>\n",
       "      <td>NaN</td>\n",
       "    </tr>\n",
       "    <tr>\n",
       "      <th>3</th>\n",
       "      <td>2</td>\n",
       "      <td>23</td>\n",
       "      <td>5081</td>\n",
       "      <td>3</td>\n",
       "      <td>11</td>\n",
       "      <td>6837</td>\n",
       "      <td>2</td>\n",
       "      <td>37</td>\n",
       "      <td>5521</td>\n",
       "      <td>1</td>\n",
       "      <td>...</td>\n",
       "      <td>2</td>\n",
       "      <td>1</td>\n",
       "      <td>2</td>\n",
       "      <td>4</td>\n",
       "      <td>5</td>\n",
       "      <td>70</td>\n",
       "      <td>2</td>\n",
       "      <td>1</td>\n",
       "      <td>5</td>\n",
       "      <td>biology</td>\n",
       "    </tr>\n",
       "    <tr>\n",
       "      <th>4</th>\n",
       "      <td>2</td>\n",
       "      <td>36</td>\n",
       "      <td>3215</td>\n",
       "      <td>2</td>\n",
       "      <td>13</td>\n",
       "      <td>7731</td>\n",
       "      <td>3</td>\n",
       "      <td>5</td>\n",
       "      <td>4156</td>\n",
       "      <td>4</td>\n",
       "      <td>...</td>\n",
       "      <td>2</td>\n",
       "      <td>2</td>\n",
       "      <td>3</td>\n",
       "      <td>10</td>\n",
       "      <td>1</td>\n",
       "      <td>10</td>\n",
       "      <td>2</td>\n",
       "      <td>1</td>\n",
       "      <td>4</td>\n",
       "      <td>Psychology</td>\n",
       "    </tr>\n",
       "  </tbody>\n",
       "</table>\n",
       "<p>5 rows × 172 columns</p>\n",
       "</div>"
      ],
      "text/plain": [
       "   Q1A  Q1I   Q1E  Q2A  Q2I   Q2E  Q3A  Q3I   Q3E  Q4A  ...  screensize  \\\n",
       "0    4   28  3890    4   25  2122    2   16  1944    4  ...           1   \n",
       "1    4    2  8118    1   36  2890    2   35  4777    3  ...           2   \n",
       "2    3    7  5784    1   33  4373    4   41  3242    1  ...           2   \n",
       "3    2   23  5081    3   11  6837    2   37  5521    1  ...           2   \n",
       "4    2   36  3215    2   13  7731    3    5  4156    4  ...           2   \n",
       "\n",
       "   uniquenetworklocation  hand  religion  orientation  race  voted  married  \\\n",
       "0                      1     1        12            1    10      2        1   \n",
       "1                      1     2         7            0    70      2        1   \n",
       "2                      1     1         4            3    60      1        1   \n",
       "3                      1     2         4            5    70      2        1   \n",
       "4                      2     3        10            1    10      2        1   \n",
       "\n",
       "   familysize       major  \n",
       "0           2         NaN  \n",
       "1           4         NaN  \n",
       "2           3         NaN  \n",
       "3           5     biology  \n",
       "4           4  Psychology  \n",
       "\n",
       "[5 rows x 172 columns]"
      ]
     },
     "execution_count": 2,
     "metadata": {},
     "output_type": "execute_result"
    }
   ],
   "source": [
    "df = pd.read_csv(\"BTP data.csv\", sep='\\t')\n",
    "df.head()"
   ]
  },
  {
   "cell_type": "code",
   "execution_count": 3,
   "id": "44a20705",
   "metadata": {},
   "outputs": [
    {
     "data": {
      "text/plain": [
       "Index(['Q1A', 'Q1I', 'Q1E', 'Q2A', 'Q2I', 'Q2E', 'Q3A', 'Q3I', 'Q3E', 'Q4A',\n",
       "       ...\n",
       "       'screensize', 'uniquenetworklocation', 'hand', 'religion',\n",
       "       'orientation', 'race', 'voted', 'married', 'familysize', 'major'],\n",
       "      dtype='object', length=172)"
      ]
     },
     "execution_count": 3,
     "metadata": {},
     "output_type": "execute_result"
    }
   ],
   "source": [
    "df.columns"
   ]
  },
  {
   "cell_type": "code",
   "execution_count": 4,
   "id": "d421d3ac",
   "metadata": {},
   "outputs": [],
   "source": [
    "data_1=df.copy()\n",
    "time = [i for i in data_1.iloc[:,0:126] if  'E' in i]\n",
    "position = [i for i in data_1.iloc[:,0:126] if  'I' in i]\n",
    "data_1=data_1.drop(position,axis=1)\n",
    "data_1=data_1.drop(time,axis=1)\n",
    "ans = [i for i in data_1.iloc[:,0:126] if  'A' in i]"
   ]
  },
  {
   "cell_type": "code",
   "execution_count": 5,
   "id": "2216770e",
   "metadata": {},
   "outputs": [],
   "source": [
    "data_1=df[ans]\n",
    "df=data_1"
   ]
  },
  {
   "cell_type": "code",
   "execution_count": 6,
   "id": "b91803a6",
   "metadata": {},
   "outputs": [
    {
     "data": {
      "text/html": [
       "<div>\n",
       "<style scoped>\n",
       "    .dataframe tbody tr th:only-of-type {\n",
       "        vertical-align: middle;\n",
       "    }\n",
       "\n",
       "    .dataframe tbody tr th {\n",
       "        vertical-align: top;\n",
       "    }\n",
       "\n",
       "    .dataframe thead th {\n",
       "        text-align: right;\n",
       "    }\n",
       "</style>\n",
       "<table border=\"1\" class=\"dataframe\">\n",
       "  <thead>\n",
       "    <tr style=\"text-align: right;\">\n",
       "      <th></th>\n",
       "      <th>Q1A</th>\n",
       "      <th>Q2A</th>\n",
       "      <th>Q3A</th>\n",
       "      <th>Q4A</th>\n",
       "      <th>Q5A</th>\n",
       "      <th>Q6A</th>\n",
       "      <th>Q7A</th>\n",
       "      <th>Q8A</th>\n",
       "      <th>Q9A</th>\n",
       "      <th>Q10A</th>\n",
       "      <th>...</th>\n",
       "      <th>Q33A</th>\n",
       "      <th>Q34A</th>\n",
       "      <th>Q35A</th>\n",
       "      <th>Q36A</th>\n",
       "      <th>Q37A</th>\n",
       "      <th>Q38A</th>\n",
       "      <th>Q39A</th>\n",
       "      <th>Q40A</th>\n",
       "      <th>Q41A</th>\n",
       "      <th>Q42A</th>\n",
       "    </tr>\n",
       "  </thead>\n",
       "  <tbody>\n",
       "    <tr>\n",
       "      <th>0</th>\n",
       "      <td>4</td>\n",
       "      <td>4</td>\n",
       "      <td>2</td>\n",
       "      <td>4</td>\n",
       "      <td>4</td>\n",
       "      <td>4</td>\n",
       "      <td>4</td>\n",
       "      <td>4</td>\n",
       "      <td>2</td>\n",
       "      <td>1</td>\n",
       "      <td>...</td>\n",
       "      <td>2</td>\n",
       "      <td>3</td>\n",
       "      <td>4</td>\n",
       "      <td>4</td>\n",
       "      <td>1</td>\n",
       "      <td>2</td>\n",
       "      <td>4</td>\n",
       "      <td>3</td>\n",
       "      <td>4</td>\n",
       "      <td>4</td>\n",
       "    </tr>\n",
       "    <tr>\n",
       "      <th>1</th>\n",
       "      <td>4</td>\n",
       "      <td>1</td>\n",
       "      <td>2</td>\n",
       "      <td>3</td>\n",
       "      <td>4</td>\n",
       "      <td>4</td>\n",
       "      <td>3</td>\n",
       "      <td>4</td>\n",
       "      <td>3</td>\n",
       "      <td>2</td>\n",
       "      <td>...</td>\n",
       "      <td>3</td>\n",
       "      <td>2</td>\n",
       "      <td>2</td>\n",
       "      <td>3</td>\n",
       "      <td>4</td>\n",
       "      <td>2</td>\n",
       "      <td>2</td>\n",
       "      <td>1</td>\n",
       "      <td>2</td>\n",
       "      <td>2</td>\n",
       "    </tr>\n",
       "    <tr>\n",
       "      <th>2</th>\n",
       "      <td>3</td>\n",
       "      <td>1</td>\n",
       "      <td>4</td>\n",
       "      <td>1</td>\n",
       "      <td>4</td>\n",
       "      <td>3</td>\n",
       "      <td>1</td>\n",
       "      <td>3</td>\n",
       "      <td>2</td>\n",
       "      <td>4</td>\n",
       "      <td>...</td>\n",
       "      <td>1</td>\n",
       "      <td>4</td>\n",
       "      <td>3</td>\n",
       "      <td>4</td>\n",
       "      <td>4</td>\n",
       "      <td>4</td>\n",
       "      <td>2</td>\n",
       "      <td>2</td>\n",
       "      <td>1</td>\n",
       "      <td>4</td>\n",
       "    </tr>\n",
       "    <tr>\n",
       "      <th>3</th>\n",
       "      <td>2</td>\n",
       "      <td>3</td>\n",
       "      <td>2</td>\n",
       "      <td>1</td>\n",
       "      <td>3</td>\n",
       "      <td>3</td>\n",
       "      <td>4</td>\n",
       "      <td>2</td>\n",
       "      <td>3</td>\n",
       "      <td>3</td>\n",
       "      <td>...</td>\n",
       "      <td>2</td>\n",
       "      <td>4</td>\n",
       "      <td>1</td>\n",
       "      <td>1</td>\n",
       "      <td>2</td>\n",
       "      <td>1</td>\n",
       "      <td>3</td>\n",
       "      <td>4</td>\n",
       "      <td>4</td>\n",
       "      <td>2</td>\n",
       "    </tr>\n",
       "    <tr>\n",
       "      <th>4</th>\n",
       "      <td>2</td>\n",
       "      <td>2</td>\n",
       "      <td>3</td>\n",
       "      <td>4</td>\n",
       "      <td>4</td>\n",
       "      <td>2</td>\n",
       "      <td>4</td>\n",
       "      <td>4</td>\n",
       "      <td>4</td>\n",
       "      <td>3</td>\n",
       "      <td>...</td>\n",
       "      <td>4</td>\n",
       "      <td>4</td>\n",
       "      <td>3</td>\n",
       "      <td>4</td>\n",
       "      <td>3</td>\n",
       "      <td>3</td>\n",
       "      <td>3</td>\n",
       "      <td>4</td>\n",
       "      <td>4</td>\n",
       "      <td>3</td>\n",
       "    </tr>\n",
       "    <tr>\n",
       "      <th>...</th>\n",
       "      <td>...</td>\n",
       "      <td>...</td>\n",
       "      <td>...</td>\n",
       "      <td>...</td>\n",
       "      <td>...</td>\n",
       "      <td>...</td>\n",
       "      <td>...</td>\n",
       "      <td>...</td>\n",
       "      <td>...</td>\n",
       "      <td>...</td>\n",
       "      <td>...</td>\n",
       "      <td>...</td>\n",
       "      <td>...</td>\n",
       "      <td>...</td>\n",
       "      <td>...</td>\n",
       "      <td>...</td>\n",
       "      <td>...</td>\n",
       "      <td>...</td>\n",
       "      <td>...</td>\n",
       "      <td>...</td>\n",
       "      <td>...</td>\n",
       "    </tr>\n",
       "    <tr>\n",
       "      <th>39770</th>\n",
       "      <td>2</td>\n",
       "      <td>1</td>\n",
       "      <td>3</td>\n",
       "      <td>2</td>\n",
       "      <td>3</td>\n",
       "      <td>2</td>\n",
       "      <td>1</td>\n",
       "      <td>3</td>\n",
       "      <td>1</td>\n",
       "      <td>4</td>\n",
       "      <td>...</td>\n",
       "      <td>2</td>\n",
       "      <td>4</td>\n",
       "      <td>1</td>\n",
       "      <td>2</td>\n",
       "      <td>4</td>\n",
       "      <td>4</td>\n",
       "      <td>2</td>\n",
       "      <td>3</td>\n",
       "      <td>1</td>\n",
       "      <td>3</td>\n",
       "    </tr>\n",
       "    <tr>\n",
       "      <th>39771</th>\n",
       "      <td>3</td>\n",
       "      <td>4</td>\n",
       "      <td>3</td>\n",
       "      <td>4</td>\n",
       "      <td>3</td>\n",
       "      <td>4</td>\n",
       "      <td>4</td>\n",
       "      <td>4</td>\n",
       "      <td>3</td>\n",
       "      <td>4</td>\n",
       "      <td>...</td>\n",
       "      <td>3</td>\n",
       "      <td>4</td>\n",
       "      <td>3</td>\n",
       "      <td>3</td>\n",
       "      <td>3</td>\n",
       "      <td>4</td>\n",
       "      <td>3</td>\n",
       "      <td>3</td>\n",
       "      <td>3</td>\n",
       "      <td>4</td>\n",
       "    </tr>\n",
       "    <tr>\n",
       "      <th>39772</th>\n",
       "      <td>2</td>\n",
       "      <td>1</td>\n",
       "      <td>2</td>\n",
       "      <td>1</td>\n",
       "      <td>1</td>\n",
       "      <td>1</td>\n",
       "      <td>1</td>\n",
       "      <td>1</td>\n",
       "      <td>2</td>\n",
       "      <td>1</td>\n",
       "      <td>...</td>\n",
       "      <td>2</td>\n",
       "      <td>1</td>\n",
       "      <td>1</td>\n",
       "      <td>1</td>\n",
       "      <td>1</td>\n",
       "      <td>1</td>\n",
       "      <td>2</td>\n",
       "      <td>1</td>\n",
       "      <td>1</td>\n",
       "      <td>1</td>\n",
       "    </tr>\n",
       "    <tr>\n",
       "      <th>39773</th>\n",
       "      <td>3</td>\n",
       "      <td>1</td>\n",
       "      <td>2</td>\n",
       "      <td>2</td>\n",
       "      <td>3</td>\n",
       "      <td>3</td>\n",
       "      <td>3</td>\n",
       "      <td>4</td>\n",
       "      <td>3</td>\n",
       "      <td>1</td>\n",
       "      <td>...</td>\n",
       "      <td>4</td>\n",
       "      <td>2</td>\n",
       "      <td>3</td>\n",
       "      <td>2</td>\n",
       "      <td>1</td>\n",
       "      <td>2</td>\n",
       "      <td>3</td>\n",
       "      <td>2</td>\n",
       "      <td>4</td>\n",
       "      <td>3</td>\n",
       "    </tr>\n",
       "    <tr>\n",
       "      <th>39774</th>\n",
       "      <td>2</td>\n",
       "      <td>1</td>\n",
       "      <td>2</td>\n",
       "      <td>1</td>\n",
       "      <td>4</td>\n",
       "      <td>2</td>\n",
       "      <td>1</td>\n",
       "      <td>1</td>\n",
       "      <td>1</td>\n",
       "      <td>1</td>\n",
       "      <td>...</td>\n",
       "      <td>2</td>\n",
       "      <td>3</td>\n",
       "      <td>2</td>\n",
       "      <td>2</td>\n",
       "      <td>2</td>\n",
       "      <td>4</td>\n",
       "      <td>3</td>\n",
       "      <td>3</td>\n",
       "      <td>1</td>\n",
       "      <td>4</td>\n",
       "    </tr>\n",
       "  </tbody>\n",
       "</table>\n",
       "<p>39775 rows × 42 columns</p>\n",
       "</div>"
      ],
      "text/plain": [
       "       Q1A  Q2A  Q3A  Q4A  Q5A  Q6A  Q7A  Q8A  Q9A  Q10A  ...  Q33A  Q34A  \\\n",
       "0        4    4    2    4    4    4    4    4    2     1  ...     2     3   \n",
       "1        4    1    2    3    4    4    3    4    3     2  ...     3     2   \n",
       "2        3    1    4    1    4    3    1    3    2     4  ...     1     4   \n",
       "3        2    3    2    1    3    3    4    2    3     3  ...     2     4   \n",
       "4        2    2    3    4    4    2    4    4    4     3  ...     4     4   \n",
       "...    ...  ...  ...  ...  ...  ...  ...  ...  ...   ...  ...   ...   ...   \n",
       "39770    2    1    3    2    3    2    1    3    1     4  ...     2     4   \n",
       "39771    3    4    3    4    3    4    4    4    3     4  ...     3     4   \n",
       "39772    2    1    2    1    1    1    1    1    2     1  ...     2     1   \n",
       "39773    3    1    2    2    3    3    3    4    3     1  ...     4     2   \n",
       "39774    2    1    2    1    4    2    1    1    1     1  ...     2     3   \n",
       "\n",
       "       Q35A  Q36A  Q37A  Q38A  Q39A  Q40A  Q41A  Q42A  \n",
       "0         4     4     1     2     4     3     4     4  \n",
       "1         2     3     4     2     2     1     2     2  \n",
       "2         3     4     4     4     2     2     1     4  \n",
       "3         1     1     2     1     3     4     4     2  \n",
       "4         3     4     3     3     3     4     4     3  \n",
       "...     ...   ...   ...   ...   ...   ...   ...   ...  \n",
       "39770     1     2     4     4     2     3     1     3  \n",
       "39771     3     3     3     4     3     3     3     4  \n",
       "39772     1     1     1     1     2     1     1     1  \n",
       "39773     3     2     1     2     3     2     4     3  \n",
       "39774     2     2     2     4     3     3     1     4  \n",
       "\n",
       "[39775 rows x 42 columns]"
      ]
     },
     "execution_count": 6,
     "metadata": {},
     "output_type": "execute_result"
    }
   ],
   "source": [
    "df"
   ]
  },
  {
   "cell_type": "code",
   "execution_count": 7,
   "id": "42d4c200",
   "metadata": {},
   "outputs": [],
   "source": [
    "DASS_keys = {'Depression': [3, 5, 10, 13, 16, 17, 21, 24, 26, 31, 34, 37, 38, 42],\n",
    "             'Anxiety': [2, 4, 7, 9, 15, 19, 20, 23, 25, 28, 30, 36, 40, 41],\n",
    "             'Stress': [1, 6, 8, 11, 12, 14, 18, 22, 27, 29, 32, 33, 35, 39]}\n",
    "Dep = []\n",
    "for i in DASS_keys[\"Depression\"]:\n",
    "    Dep.append('Q'+str(i)+'A')\n",
    "Stress = []\n",
    "for i in DASS_keys[\"Stress\"]:\n",
    "    Stress.append('Q'+str(i)+'A')\n",
    "Anx = []\n",
    "for i in DASS_keys[\"Anxiety\"]:\n",
    "    Anx.append('Q'+str(i)+'A')\n",
    "depression= df.filter(Dep)\n",
    "stress = df.filter(Stress)\n",
    "anxiety = df.filter(Anx)"
   ]
  },
  {
   "cell_type": "code",
   "execution_count": 8,
   "id": "a3cb4d0a",
   "metadata": {},
   "outputs": [],
   "source": [
    "def scores(source):\n",
    "    col=list(source)\n",
    "    source['Total_Count']=source[col].sum(axis=1)\n",
    "    return source\n",
    "depression=scores(depression)\n",
    "stress=scores(stress)\n",
    "anxiety=scores(anxiety)"
   ]
  },
  {
   "cell_type": "markdown",
   "id": "ca4171a1",
   "metadata": {},
   "source": [
    "Depression Set"
   ]
  },
  {
   "cell_type": "code",
   "execution_count": 9,
   "id": "68ff9d1b",
   "metadata": {},
   "outputs": [
    {
     "data": {
      "text/html": [
       "<div>\n",
       "<style scoped>\n",
       "    .dataframe tbody tr th:only-of-type {\n",
       "        vertical-align: middle;\n",
       "    }\n",
       "\n",
       "    .dataframe tbody tr th {\n",
       "        vertical-align: top;\n",
       "    }\n",
       "\n",
       "    .dataframe thead th {\n",
       "        text-align: right;\n",
       "    }\n",
       "</style>\n",
       "<table border=\"1\" class=\"dataframe\">\n",
       "  <thead>\n",
       "    <tr style=\"text-align: right;\">\n",
       "      <th></th>\n",
       "      <th>Q3A</th>\n",
       "      <th>Q5A</th>\n",
       "      <th>Q10A</th>\n",
       "      <th>Q13A</th>\n",
       "      <th>Q16A</th>\n",
       "      <th>Q17A</th>\n",
       "      <th>Q21A</th>\n",
       "      <th>Q24A</th>\n",
       "      <th>Q26A</th>\n",
       "      <th>Q31A</th>\n",
       "      <th>Q34A</th>\n",
       "      <th>Q37A</th>\n",
       "      <th>Q38A</th>\n",
       "      <th>Q42A</th>\n",
       "      <th>Total_Count</th>\n",
       "    </tr>\n",
       "  </thead>\n",
       "  <tbody>\n",
       "    <tr>\n",
       "      <th>0</th>\n",
       "      <td>2</td>\n",
       "      <td>4</td>\n",
       "      <td>1</td>\n",
       "      <td>4</td>\n",
       "      <td>4</td>\n",
       "      <td>3</td>\n",
       "      <td>1</td>\n",
       "      <td>4</td>\n",
       "      <td>4</td>\n",
       "      <td>4</td>\n",
       "      <td>3</td>\n",
       "      <td>1</td>\n",
       "      <td>2</td>\n",
       "      <td>4</td>\n",
       "      <td>41</td>\n",
       "    </tr>\n",
       "    <tr>\n",
       "      <th>1</th>\n",
       "      <td>2</td>\n",
       "      <td>4</td>\n",
       "      <td>2</td>\n",
       "      <td>4</td>\n",
       "      <td>3</td>\n",
       "      <td>4</td>\n",
       "      <td>2</td>\n",
       "      <td>2</td>\n",
       "      <td>3</td>\n",
       "      <td>2</td>\n",
       "      <td>2</td>\n",
       "      <td>4</td>\n",
       "      <td>2</td>\n",
       "      <td>2</td>\n",
       "      <td>38</td>\n",
       "    </tr>\n",
       "    <tr>\n",
       "      <th>2</th>\n",
       "      <td>4</td>\n",
       "      <td>4</td>\n",
       "      <td>4</td>\n",
       "      <td>4</td>\n",
       "      <td>4</td>\n",
       "      <td>4</td>\n",
       "      <td>4</td>\n",
       "      <td>4</td>\n",
       "      <td>1</td>\n",
       "      <td>4</td>\n",
       "      <td>4</td>\n",
       "      <td>4</td>\n",
       "      <td>4</td>\n",
       "      <td>4</td>\n",
       "      <td>53</td>\n",
       "    </tr>\n",
       "    <tr>\n",
       "      <th>3</th>\n",
       "      <td>2</td>\n",
       "      <td>3</td>\n",
       "      <td>3</td>\n",
       "      <td>1</td>\n",
       "      <td>2</td>\n",
       "      <td>3</td>\n",
       "      <td>1</td>\n",
       "      <td>1</td>\n",
       "      <td>2</td>\n",
       "      <td>3</td>\n",
       "      <td>4</td>\n",
       "      <td>2</td>\n",
       "      <td>1</td>\n",
       "      <td>2</td>\n",
       "      <td>30</td>\n",
       "    </tr>\n",
       "    <tr>\n",
       "      <th>4</th>\n",
       "      <td>3</td>\n",
       "      <td>4</td>\n",
       "      <td>3</td>\n",
       "      <td>4</td>\n",
       "      <td>3</td>\n",
       "      <td>4</td>\n",
       "      <td>3</td>\n",
       "      <td>2</td>\n",
       "      <td>4</td>\n",
       "      <td>3</td>\n",
       "      <td>4</td>\n",
       "      <td>3</td>\n",
       "      <td>3</td>\n",
       "      <td>3</td>\n",
       "      <td>46</td>\n",
       "    </tr>\n",
       "  </tbody>\n",
       "</table>\n",
       "</div>"
      ],
      "text/plain": [
       "   Q3A  Q5A  Q10A  Q13A  Q16A  Q17A  Q21A  Q24A  Q26A  Q31A  Q34A  Q37A  Q38A  \\\n",
       "0    2    4     1     4     4     3     1     4     4     4     3     1     2   \n",
       "1    2    4     2     4     3     4     2     2     3     2     2     4     2   \n",
       "2    4    4     4     4     4     4     4     4     1     4     4     4     4   \n",
       "3    2    3     3     1     2     3     1     1     2     3     4     2     1   \n",
       "4    3    4     3     4     3     4     3     2     4     3     4     3     3   \n",
       "\n",
       "   Q42A  Total_Count  \n",
       "0     4           41  \n",
       "1     2           38  \n",
       "2     4           53  \n",
       "3     2           30  \n",
       "4     3           46  "
      ]
     },
     "execution_count": 9,
     "metadata": {},
     "output_type": "execute_result"
    }
   ],
   "source": [
    "depression.head()"
   ]
  },
  {
   "cell_type": "code",
   "execution_count": 10,
   "id": "48fd8e18",
   "metadata": {},
   "outputs": [
    {
     "data": {
      "text/html": [
       "<div>\n",
       "<style scoped>\n",
       "    .dataframe tbody tr th:only-of-type {\n",
       "        vertical-align: middle;\n",
       "    }\n",
       "\n",
       "    .dataframe tbody tr th {\n",
       "        vertical-align: top;\n",
       "    }\n",
       "\n",
       "    .dataframe thead th {\n",
       "        text-align: right;\n",
       "    }\n",
       "</style>\n",
       "<table border=\"1\" class=\"dataframe\">\n",
       "  <thead>\n",
       "    <tr style=\"text-align: right;\">\n",
       "      <th></th>\n",
       "      <th>Q3A</th>\n",
       "      <th>Q5A</th>\n",
       "      <th>Q10A</th>\n",
       "      <th>Q13A</th>\n",
       "      <th>Q16A</th>\n",
       "      <th>Q17A</th>\n",
       "      <th>Q21A</th>\n",
       "      <th>Q24A</th>\n",
       "      <th>Q26A</th>\n",
       "      <th>Q31A</th>\n",
       "      <th>Q34A</th>\n",
       "      <th>Q37A</th>\n",
       "      <th>Q38A</th>\n",
       "      <th>Q42A</th>\n",
       "      <th>Total_Count</th>\n",
       "      <th>Condition</th>\n",
       "    </tr>\n",
       "  </thead>\n",
       "  <tbody>\n",
       "    <tr>\n",
       "      <th>0</th>\n",
       "      <td>2</td>\n",
       "      <td>4</td>\n",
       "      <td>1</td>\n",
       "      <td>4</td>\n",
       "      <td>4</td>\n",
       "      <td>3</td>\n",
       "      <td>1</td>\n",
       "      <td>4</td>\n",
       "      <td>4</td>\n",
       "      <td>4</td>\n",
       "      <td>3</td>\n",
       "      <td>1</td>\n",
       "      <td>2</td>\n",
       "      <td>4</td>\n",
       "      <td>41</td>\n",
       "      <td>Severe</td>\n",
       "    </tr>\n",
       "    <tr>\n",
       "      <th>1</th>\n",
       "      <td>2</td>\n",
       "      <td>4</td>\n",
       "      <td>2</td>\n",
       "      <td>4</td>\n",
       "      <td>3</td>\n",
       "      <td>4</td>\n",
       "      <td>2</td>\n",
       "      <td>2</td>\n",
       "      <td>3</td>\n",
       "      <td>2</td>\n",
       "      <td>2</td>\n",
       "      <td>4</td>\n",
       "      <td>2</td>\n",
       "      <td>2</td>\n",
       "      <td>38</td>\n",
       "      <td>Moderate</td>\n",
       "    </tr>\n",
       "    <tr>\n",
       "      <th>2</th>\n",
       "      <td>4</td>\n",
       "      <td>4</td>\n",
       "      <td>4</td>\n",
       "      <td>4</td>\n",
       "      <td>4</td>\n",
       "      <td>4</td>\n",
       "      <td>4</td>\n",
       "      <td>4</td>\n",
       "      <td>1</td>\n",
       "      <td>4</td>\n",
       "      <td>4</td>\n",
       "      <td>4</td>\n",
       "      <td>4</td>\n",
       "      <td>4</td>\n",
       "      <td>53</td>\n",
       "      <td>Extremely Severe</td>\n",
       "    </tr>\n",
       "    <tr>\n",
       "      <th>3</th>\n",
       "      <td>2</td>\n",
       "      <td>3</td>\n",
       "      <td>3</td>\n",
       "      <td>1</td>\n",
       "      <td>2</td>\n",
       "      <td>3</td>\n",
       "      <td>1</td>\n",
       "      <td>1</td>\n",
       "      <td>2</td>\n",
       "      <td>3</td>\n",
       "      <td>4</td>\n",
       "      <td>2</td>\n",
       "      <td>1</td>\n",
       "      <td>2</td>\n",
       "      <td>30</td>\n",
       "      <td>Moderate</td>\n",
       "    </tr>\n",
       "    <tr>\n",
       "      <th>4</th>\n",
       "      <td>3</td>\n",
       "      <td>4</td>\n",
       "      <td>3</td>\n",
       "      <td>4</td>\n",
       "      <td>3</td>\n",
       "      <td>4</td>\n",
       "      <td>3</td>\n",
       "      <td>2</td>\n",
       "      <td>4</td>\n",
       "      <td>3</td>\n",
       "      <td>4</td>\n",
       "      <td>3</td>\n",
       "      <td>3</td>\n",
       "      <td>3</td>\n",
       "      <td>46</td>\n",
       "      <td>Severe</td>\n",
       "    </tr>\n",
       "  </tbody>\n",
       "</table>\n",
       "</div>"
      ],
      "text/plain": [
       "   Q3A  Q5A  Q10A  Q13A  Q16A  Q17A  Q21A  Q24A  Q26A  Q31A  Q34A  Q37A  Q38A  \\\n",
       "0    2    4     1     4     4     3     1     4     4     4     3     1     2   \n",
       "1    2    4     2     4     3     4     2     2     3     2     2     4     2   \n",
       "2    4    4     4     4     4     4     4     4     1     4     4     4     4   \n",
       "3    2    3     3     1     2     3     1     1     2     3     4     2     1   \n",
       "4    3    4     3     4     3     4     3     2     4     3     4     3     3   \n",
       "\n",
       "   Q42A  Total_Count         Condition  \n",
       "0     4           41            Severe  \n",
       "1     2           38          Moderate  \n",
       "2     4           53  Extremely Severe  \n",
       "3     2           30          Moderate  \n",
       "4     3           46            Severe  "
      ]
     },
     "execution_count": 10,
     "metadata": {},
     "output_type": "execute_result"
    }
   ],
   "source": [
    "def condition(x):\n",
    "    if x<=18:\n",
    "        return 'Normal'\n",
    "    if  19<=x<=28:\n",
    "        return 'Mild'\n",
    "    if 29<=x<=38:\n",
    "        return 'Moderate'\n",
    "    if 39<=x<=48:\n",
    "        return 'Severe'\n",
    "    if x>48:\n",
    "        return 'Extremely Severe'\n",
    "\n",
    "depression['Condition']=depression['Total_Count'].apply(condition)\n",
    "depression.head()"
   ]
  },
  {
   "cell_type": "code",
   "execution_count": 11,
   "id": "1903add4",
   "metadata": {},
   "outputs": [],
   "source": [
    "occur=depression.groupby(['Condition']).size()"
   ]
  },
  {
   "cell_type": "code",
   "execution_count": 12,
   "id": "31b93c9b",
   "metadata": {},
   "outputs": [
    {
     "data": {
      "text/plain": [
       "Condition\n",
       "Extremely Severe    7368\n",
       "Mild                9373\n",
       "Moderate            9715\n",
       "Normal              4318\n",
       "Severe              9001\n",
       "dtype: int64"
      ]
     },
     "execution_count": 12,
     "metadata": {},
     "output_type": "execute_result"
    }
   ],
   "source": [
    "occur"
   ]
  },
  {
   "cell_type": "code",
   "execution_count": 13,
   "id": "5a5f4e78",
   "metadata": {},
   "outputs": [
    {
     "name": "stderr",
     "output_type": "stream",
     "text": [
      "C:\\Users\\91897\\anaconda3\\envs\\py37\\lib\\site-packages\\seaborn\\_decorators.py:43: FutureWarning: Pass the following variable as a keyword arg: x. From version 0.12, the only valid positional argument will be `data`, and passing other arguments without an explicit keyword will result in an error or misinterpretation.\n",
      "  FutureWarning\n"
     ]
    },
    {
     "data": {
      "text/plain": [
       "Text(0.5, 1.0, 'People Condition of Depression Level')"
      ]
     },
     "execution_count": 13,
     "metadata": {},
     "output_type": "execute_result"
    },
    {
     "data": {
      "image/png": "[encoded data removed]",
      "text/plain": [
       "<Figure size 720x432 with 1 Axes>"
      ]
     },
     "metadata": {
      "needs_background": "light"
     },
     "output_type": "display_data"
    }
   ],
   "source": [
    "plt.figure(figsize=(10,6))\n",
    "sns.countplot(depression.sort_values('Condition').Condition)\n",
    "plt.title('People Condition of Depression Level',fontsize=15)"
   ]
  },
  {
   "cell_type": "code",
   "execution_count": 14,
   "id": "291e9f1d",
   "metadata": {},
   "outputs": [],
   "source": [
    "def condition(x):\n",
    "    if x<=18:\n",
    "        return 0\n",
    "    if  19<=x<=28:\n",
    "        return 1\n",
    "    if 29<=x<=38:\n",
    "        return 2\n",
    "    if 39<=x<=48:\n",
    "        return 3\n",
    "    if x>48:\n",
    "        return 4\n",
    "    \n",
    "depression['Condition']=depression['Total_Count'].apply(condition)\n",
    "depression=depression.drop(columns=['Total_Count'])"
   ]
  },
  {
   "cell_type": "code",
   "execution_count": 15,
   "id": "e3ab50c8",
   "metadata": {},
   "outputs": [
    {
     "data": {
      "text/html": [
       "<div>\n",
       "<style scoped>\n",
       "    .dataframe tbody tr th:only-of-type {\n",
       "        vertical-align: middle;\n",
       "    }\n",
       "\n",
       "    .dataframe tbody tr th {\n",
       "        vertical-align: top;\n",
       "    }\n",
       "\n",
       "    .dataframe thead th {\n",
       "        text-align: right;\n",
       "    }\n",
       "</style>\n",
       "<table border=\"1\" class=\"dataframe\">\n",
       "  <thead>\n",
       "    <tr style=\"text-align: right;\">\n",
       "      <th></th>\n",
       "      <th>Q3A</th>\n",
       "      <th>Q5A</th>\n",
       "      <th>Q10A</th>\n",
       "      <th>Q13A</th>\n",
       "      <th>Q16A</th>\n",
       "      <th>Q17A</th>\n",
       "      <th>Q21A</th>\n",
       "      <th>Q24A</th>\n",
       "      <th>Q26A</th>\n",
       "      <th>Q31A</th>\n",
       "      <th>Q34A</th>\n",
       "      <th>Q37A</th>\n",
       "      <th>Q38A</th>\n",
       "      <th>Q42A</th>\n",
       "      <th>Condition</th>\n",
       "    </tr>\n",
       "  </thead>\n",
       "  <tbody>\n",
       "    <tr>\n",
       "      <th>0</th>\n",
       "      <td>2</td>\n",
       "      <td>4</td>\n",
       "      <td>1</td>\n",
       "      <td>4</td>\n",
       "      <td>4</td>\n",
       "      <td>3</td>\n",
       "      <td>1</td>\n",
       "      <td>4</td>\n",
       "      <td>4</td>\n",
       "      <td>4</td>\n",
       "      <td>3</td>\n",
       "      <td>1</td>\n",
       "      <td>2</td>\n",
       "      <td>4</td>\n",
       "      <td>3</td>\n",
       "    </tr>\n",
       "    <tr>\n",
       "      <th>1</th>\n",
       "      <td>2</td>\n",
       "      <td>4</td>\n",
       "      <td>2</td>\n",
       "      <td>4</td>\n",
       "      <td>3</td>\n",
       "      <td>4</td>\n",
       "      <td>2</td>\n",
       "      <td>2</td>\n",
       "      <td>3</td>\n",
       "      <td>2</td>\n",
       "      <td>2</td>\n",
       "      <td>4</td>\n",
       "      <td>2</td>\n",
       "      <td>2</td>\n",
       "      <td>2</td>\n",
       "    </tr>\n",
       "    <tr>\n",
       "      <th>2</th>\n",
       "      <td>4</td>\n",
       "      <td>4</td>\n",
       "      <td>4</td>\n",
       "      <td>4</td>\n",
       "      <td>4</td>\n",
       "      <td>4</td>\n",
       "      <td>4</td>\n",
       "      <td>4</td>\n",
       "      <td>1</td>\n",
       "      <td>4</td>\n",
       "      <td>4</td>\n",
       "      <td>4</td>\n",
       "      <td>4</td>\n",
       "      <td>4</td>\n",
       "      <td>4</td>\n",
       "    </tr>\n",
       "    <tr>\n",
       "      <th>3</th>\n",
       "      <td>2</td>\n",
       "      <td>3</td>\n",
       "      <td>3</td>\n",
       "      <td>1</td>\n",
       "      <td>2</td>\n",
       "      <td>3</td>\n",
       "      <td>1</td>\n",
       "      <td>1</td>\n",
       "      <td>2</td>\n",
       "      <td>3</td>\n",
       "      <td>4</td>\n",
       "      <td>2</td>\n",
       "      <td>1</td>\n",
       "      <td>2</td>\n",
       "      <td>2</td>\n",
       "    </tr>\n",
       "    <tr>\n",
       "      <th>4</th>\n",
       "      <td>3</td>\n",
       "      <td>4</td>\n",
       "      <td>3</td>\n",
       "      <td>4</td>\n",
       "      <td>3</td>\n",
       "      <td>4</td>\n",
       "      <td>3</td>\n",
       "      <td>2</td>\n",
       "      <td>4</td>\n",
       "      <td>3</td>\n",
       "      <td>4</td>\n",
       "      <td>3</td>\n",
       "      <td>3</td>\n",
       "      <td>3</td>\n",
       "      <td>3</td>\n",
       "    </tr>\n",
       "    <tr>\n",
       "      <th>...</th>\n",
       "      <td>...</td>\n",
       "      <td>...</td>\n",
       "      <td>...</td>\n",
       "      <td>...</td>\n",
       "      <td>...</td>\n",
       "      <td>...</td>\n",
       "      <td>...</td>\n",
       "      <td>...</td>\n",
       "      <td>...</td>\n",
       "      <td>...</td>\n",
       "      <td>...</td>\n",
       "      <td>...</td>\n",
       "      <td>...</td>\n",
       "      <td>...</td>\n",
       "      <td>...</td>\n",
       "    </tr>\n",
       "    <tr>\n",
       "      <th>39770</th>\n",
       "      <td>3</td>\n",
       "      <td>3</td>\n",
       "      <td>4</td>\n",
       "      <td>4</td>\n",
       "      <td>3</td>\n",
       "      <td>4</td>\n",
       "      <td>4</td>\n",
       "      <td>3</td>\n",
       "      <td>3</td>\n",
       "      <td>4</td>\n",
       "      <td>4</td>\n",
       "      <td>4</td>\n",
       "      <td>4</td>\n",
       "      <td>3</td>\n",
       "      <td>4</td>\n",
       "    </tr>\n",
       "    <tr>\n",
       "      <th>39771</th>\n",
       "      <td>3</td>\n",
       "      <td>3</td>\n",
       "      <td>4</td>\n",
       "      <td>4</td>\n",
       "      <td>4</td>\n",
       "      <td>3</td>\n",
       "      <td>4</td>\n",
       "      <td>4</td>\n",
       "      <td>4</td>\n",
       "      <td>4</td>\n",
       "      <td>4</td>\n",
       "      <td>3</td>\n",
       "      <td>4</td>\n",
       "      <td>4</td>\n",
       "      <td>4</td>\n",
       "    </tr>\n",
       "    <tr>\n",
       "      <th>39772</th>\n",
       "      <td>2</td>\n",
       "      <td>1</td>\n",
       "      <td>1</td>\n",
       "      <td>2</td>\n",
       "      <td>1</td>\n",
       "      <td>1</td>\n",
       "      <td>1</td>\n",
       "      <td>2</td>\n",
       "      <td>1</td>\n",
       "      <td>2</td>\n",
       "      <td>1</td>\n",
       "      <td>1</td>\n",
       "      <td>1</td>\n",
       "      <td>1</td>\n",
       "      <td>0</td>\n",
       "    </tr>\n",
       "    <tr>\n",
       "      <th>39773</th>\n",
       "      <td>2</td>\n",
       "      <td>3</td>\n",
       "      <td>1</td>\n",
       "      <td>4</td>\n",
       "      <td>1</td>\n",
       "      <td>2</td>\n",
       "      <td>2</td>\n",
       "      <td>2</td>\n",
       "      <td>3</td>\n",
       "      <td>2</td>\n",
       "      <td>2</td>\n",
       "      <td>1</td>\n",
       "      <td>2</td>\n",
       "      <td>3</td>\n",
       "      <td>2</td>\n",
       "    </tr>\n",
       "    <tr>\n",
       "      <th>39774</th>\n",
       "      <td>2</td>\n",
       "      <td>4</td>\n",
       "      <td>1</td>\n",
       "      <td>3</td>\n",
       "      <td>4</td>\n",
       "      <td>4</td>\n",
       "      <td>4</td>\n",
       "      <td>2</td>\n",
       "      <td>2</td>\n",
       "      <td>2</td>\n",
       "      <td>3</td>\n",
       "      <td>2</td>\n",
       "      <td>4</td>\n",
       "      <td>4</td>\n",
       "      <td>3</td>\n",
       "    </tr>\n",
       "  </tbody>\n",
       "</table>\n",
       "<p>39775 rows × 15 columns</p>\n",
       "</div>"
      ],
      "text/plain": [
       "       Q3A  Q5A  Q10A  Q13A  Q16A  Q17A  Q21A  Q24A  Q26A  Q31A  Q34A  Q37A  \\\n",
       "0        2    4     1     4     4     3     1     4     4     4     3     1   \n",
       "1        2    4     2     4     3     4     2     2     3     2     2     4   \n",
       "2        4    4     4     4     4     4     4     4     1     4     4     4   \n",
       "3        2    3     3     1     2     3     1     1     2     3     4     2   \n",
       "4        3    4     3     4     3     4     3     2     4     3     4     3   \n",
       "...    ...  ...   ...   ...   ...   ...   ...   ...   ...   ...   ...   ...   \n",
       "39770    3    3     4     4     3     4     4     3     3     4     4     4   \n",
       "39771    3    3     4     4     4     3     4     4     4     4     4     3   \n",
       "39772    2    1     1     2     1     1     1     2     1     2     1     1   \n",
       "39773    2    3     1     4     1     2     2     2     3     2     2     1   \n",
       "39774    2    4     1     3     4     4     4     2     2     2     3     2   \n",
       "\n",
       "       Q38A  Q42A  Condition  \n",
       "0         2     4          3  \n",
       "1         2     2          2  \n",
       "2         4     4          4  \n",
       "3         1     2          2  \n",
       "4         3     3          3  \n",
       "...     ...   ...        ...  \n",
       "39770     4     3          4  \n",
       "39771     4     4          4  \n",
       "39772     1     1          0  \n",
       "39773     2     3          2  \n",
       "39774     4     4          3  \n",
       "\n",
       "[39775 rows x 15 columns]"
      ]
     },
     "execution_count": 15,
     "metadata": {},
     "output_type": "execute_result"
    }
   ],
   "source": [
    "depression"
   ]
  },
  {
   "cell_type": "markdown",
   "id": "1beda905",
   "metadata": {},
   "source": [
    "Stress Set"
   ]
  },
  {
   "cell_type": "code",
   "execution_count": 16,
   "id": "9d672fd8",
   "metadata": {},
   "outputs": [
    {
     "data": {
      "text/html": [
       "<div>\n",
       "<style scoped>\n",
       "    .dataframe tbody tr th:only-of-type {\n",
       "        vertical-align: middle;\n",
       "    }\n",
       "\n",
       "    .dataframe tbody tr th {\n",
       "        vertical-align: top;\n",
       "    }\n",
       "\n",
       "    .dataframe thead th {\n",
       "        text-align: right;\n",
       "    }\n",
       "</style>\n",
       "<table border=\"1\" class=\"dataframe\">\n",
       "  <thead>\n",
       "    <tr style=\"text-align: right;\">\n",
       "      <th></th>\n",
       "      <th>Q1A</th>\n",
       "      <th>Q6A</th>\n",
       "      <th>Q8A</th>\n",
       "      <th>Q11A</th>\n",
       "      <th>Q12A</th>\n",
       "      <th>Q14A</th>\n",
       "      <th>Q18A</th>\n",
       "      <th>Q22A</th>\n",
       "      <th>Q27A</th>\n",
       "      <th>Q29A</th>\n",
       "      <th>Q32A</th>\n",
       "      <th>Q33A</th>\n",
       "      <th>Q35A</th>\n",
       "      <th>Q39A</th>\n",
       "      <th>Total_Count</th>\n",
       "    </tr>\n",
       "  </thead>\n",
       "  <tbody>\n",
       "    <tr>\n",
       "      <th>0</th>\n",
       "      <td>4</td>\n",
       "      <td>4</td>\n",
       "      <td>4</td>\n",
       "      <td>4</td>\n",
       "      <td>4</td>\n",
       "      <td>4</td>\n",
       "      <td>4</td>\n",
       "      <td>4</td>\n",
       "      <td>4</td>\n",
       "      <td>4</td>\n",
       "      <td>4</td>\n",
       "      <td>2</td>\n",
       "      <td>4</td>\n",
       "      <td>4</td>\n",
       "      <td>54</td>\n",
       "    </tr>\n",
       "    <tr>\n",
       "      <th>1</th>\n",
       "      <td>4</td>\n",
       "      <td>4</td>\n",
       "      <td>4</td>\n",
       "      <td>2</td>\n",
       "      <td>2</td>\n",
       "      <td>4</td>\n",
       "      <td>2</td>\n",
       "      <td>3</td>\n",
       "      <td>3</td>\n",
       "      <td>3</td>\n",
       "      <td>3</td>\n",
       "      <td>3</td>\n",
       "      <td>2</td>\n",
       "      <td>2</td>\n",
       "      <td>41</td>\n",
       "    </tr>\n",
       "    <tr>\n",
       "      <th>2</th>\n",
       "      <td>3</td>\n",
       "      <td>3</td>\n",
       "      <td>3</td>\n",
       "      <td>2</td>\n",
       "      <td>1</td>\n",
       "      <td>1</td>\n",
       "      <td>2</td>\n",
       "      <td>3</td>\n",
       "      <td>2</td>\n",
       "      <td>2</td>\n",
       "      <td>3</td>\n",
       "      <td>1</td>\n",
       "      <td>3</td>\n",
       "      <td>2</td>\n",
       "      <td>31</td>\n",
       "    </tr>\n",
       "    <tr>\n",
       "      <th>3</th>\n",
       "      <td>2</td>\n",
       "      <td>3</td>\n",
       "      <td>2</td>\n",
       "      <td>2</td>\n",
       "      <td>1</td>\n",
       "      <td>4</td>\n",
       "      <td>1</td>\n",
       "      <td>1</td>\n",
       "      <td>4</td>\n",
       "      <td>3</td>\n",
       "      <td>1</td>\n",
       "      <td>2</td>\n",
       "      <td>1</td>\n",
       "      <td>3</td>\n",
       "      <td>30</td>\n",
       "    </tr>\n",
       "    <tr>\n",
       "      <th>4</th>\n",
       "      <td>2</td>\n",
       "      <td>2</td>\n",
       "      <td>4</td>\n",
       "      <td>2</td>\n",
       "      <td>4</td>\n",
       "      <td>4</td>\n",
       "      <td>4</td>\n",
       "      <td>3</td>\n",
       "      <td>2</td>\n",
       "      <td>2</td>\n",
       "      <td>4</td>\n",
       "      <td>4</td>\n",
       "      <td>3</td>\n",
       "      <td>3</td>\n",
       "      <td>43</td>\n",
       "    </tr>\n",
       "  </tbody>\n",
       "</table>\n",
       "</div>"
      ],
      "text/plain": [
       "   Q1A  Q6A  Q8A  Q11A  Q12A  Q14A  Q18A  Q22A  Q27A  Q29A  Q32A  Q33A  Q35A  \\\n",
       "0    4    4    4     4     4     4     4     4     4     4     4     2     4   \n",
       "1    4    4    4     2     2     4     2     3     3     3     3     3     2   \n",
       "2    3    3    3     2     1     1     2     3     2     2     3     1     3   \n",
       "3    2    3    2     2     1     4     1     1     4     3     1     2     1   \n",
       "4    2    2    4     2     4     4     4     3     2     2     4     4     3   \n",
       "\n",
       "   Q39A  Total_Count  \n",
       "0     4           54  \n",
       "1     2           41  \n",
       "2     2           31  \n",
       "3     3           30  \n",
       "4     3           43  "
      ]
     },
     "execution_count": 16,
     "metadata": {},
     "output_type": "execute_result"
    }
   ],
   "source": [
    "stress.head()"
   ]
  },
  {
   "cell_type": "code",
   "execution_count": 17,
   "id": "eb4f0adf",
   "metadata": {},
   "outputs": [
    {
     "data": {
      "text/html": [
       "<div>\n",
       "<style scoped>\n",
       "    .dataframe tbody tr th:only-of-type {\n",
       "        vertical-align: middle;\n",
       "    }\n",
       "\n",
       "    .dataframe tbody tr th {\n",
       "        vertical-align: top;\n",
       "    }\n",
       "\n",
       "    .dataframe thead th {\n",
       "        text-align: right;\n",
       "    }\n",
       "</style>\n",
       "<table border=\"1\" class=\"dataframe\">\n",
       "  <thead>\n",
       "    <tr style=\"text-align: right;\">\n",
       "      <th></th>\n",
       "      <th>Q1A</th>\n",
       "      <th>Q6A</th>\n",
       "      <th>Q8A</th>\n",
       "      <th>Q11A</th>\n",
       "      <th>Q12A</th>\n",
       "      <th>Q14A</th>\n",
       "      <th>Q18A</th>\n",
       "      <th>Q22A</th>\n",
       "      <th>Q27A</th>\n",
       "      <th>Q29A</th>\n",
       "      <th>Q32A</th>\n",
       "      <th>Q33A</th>\n",
       "      <th>Q35A</th>\n",
       "      <th>Q39A</th>\n",
       "      <th>Total_Count</th>\n",
       "      <th>Condition</th>\n",
       "    </tr>\n",
       "  </thead>\n",
       "  <tbody>\n",
       "    <tr>\n",
       "      <th>0</th>\n",
       "      <td>4</td>\n",
       "      <td>4</td>\n",
       "      <td>4</td>\n",
       "      <td>4</td>\n",
       "      <td>4</td>\n",
       "      <td>4</td>\n",
       "      <td>4</td>\n",
       "      <td>4</td>\n",
       "      <td>4</td>\n",
       "      <td>4</td>\n",
       "      <td>4</td>\n",
       "      <td>2</td>\n",
       "      <td>4</td>\n",
       "      <td>4</td>\n",
       "      <td>54</td>\n",
       "      <td>Extremely Severe</td>\n",
       "    </tr>\n",
       "    <tr>\n",
       "      <th>1</th>\n",
       "      <td>4</td>\n",
       "      <td>4</td>\n",
       "      <td>4</td>\n",
       "      <td>2</td>\n",
       "      <td>2</td>\n",
       "      <td>4</td>\n",
       "      <td>2</td>\n",
       "      <td>3</td>\n",
       "      <td>3</td>\n",
       "      <td>3</td>\n",
       "      <td>3</td>\n",
       "      <td>3</td>\n",
       "      <td>2</td>\n",
       "      <td>2</td>\n",
       "      <td>41</td>\n",
       "      <td>Severe</td>\n",
       "    </tr>\n",
       "    <tr>\n",
       "      <th>2</th>\n",
       "      <td>3</td>\n",
       "      <td>3</td>\n",
       "      <td>3</td>\n",
       "      <td>2</td>\n",
       "      <td>1</td>\n",
       "      <td>1</td>\n",
       "      <td>2</td>\n",
       "      <td>3</td>\n",
       "      <td>2</td>\n",
       "      <td>2</td>\n",
       "      <td>3</td>\n",
       "      <td>1</td>\n",
       "      <td>3</td>\n",
       "      <td>2</td>\n",
       "      <td>31</td>\n",
       "      <td>Moderate</td>\n",
       "    </tr>\n",
       "    <tr>\n",
       "      <th>3</th>\n",
       "      <td>2</td>\n",
       "      <td>3</td>\n",
       "      <td>2</td>\n",
       "      <td>2</td>\n",
       "      <td>1</td>\n",
       "      <td>4</td>\n",
       "      <td>1</td>\n",
       "      <td>1</td>\n",
       "      <td>4</td>\n",
       "      <td>3</td>\n",
       "      <td>1</td>\n",
       "      <td>2</td>\n",
       "      <td>1</td>\n",
       "      <td>3</td>\n",
       "      <td>30</td>\n",
       "      <td>Moderate</td>\n",
       "    </tr>\n",
       "    <tr>\n",
       "      <th>4</th>\n",
       "      <td>2</td>\n",
       "      <td>2</td>\n",
       "      <td>4</td>\n",
       "      <td>2</td>\n",
       "      <td>4</td>\n",
       "      <td>4</td>\n",
       "      <td>4</td>\n",
       "      <td>3</td>\n",
       "      <td>2</td>\n",
       "      <td>2</td>\n",
       "      <td>4</td>\n",
       "      <td>4</td>\n",
       "      <td>3</td>\n",
       "      <td>3</td>\n",
       "      <td>43</td>\n",
       "      <td>Severe</td>\n",
       "    </tr>\n",
       "  </tbody>\n",
       "</table>\n",
       "</div>"
      ],
      "text/plain": [
       "   Q1A  Q6A  Q8A  Q11A  Q12A  Q14A  Q18A  Q22A  Q27A  Q29A  Q32A  Q33A  Q35A  \\\n",
       "0    4    4    4     4     4     4     4     4     4     4     4     2     4   \n",
       "1    4    4    4     2     2     4     2     3     3     3     3     3     2   \n",
       "2    3    3    3     2     1     1     2     3     2     2     3     1     3   \n",
       "3    2    3    2     2     1     4     1     1     4     3     1     2     1   \n",
       "4    2    2    4     2     4     4     4     3     2     2     4     4     3   \n",
       "\n",
       "   Q39A  Total_Count         Condition  \n",
       "0     4           54  Extremely Severe  \n",
       "1     2           41            Severe  \n",
       "2     2           31          Moderate  \n",
       "3     3           30          Moderate  \n",
       "4     3           43            Severe  "
      ]
     },
     "execution_count": 17,
     "metadata": {},
     "output_type": "execute_result"
    }
   ],
   "source": [
    "def condition(x):\n",
    "    if x<=18:\n",
    "        return 'Normal'\n",
    "    if  19<=x<=28:\n",
    "        return 'Mild'\n",
    "    if 29<=x<=38:\n",
    "        return 'Moderate'\n",
    "    if 39<=x<=48:\n",
    "        return 'Severe'\n",
    "    if x>48:\n",
    "        return 'Extremely Severe'\n",
    "\n",
    "stress['Condition']=stress['Total_Count'].apply(condition)\n",
    "stress.head()"
   ]
  },
  {
   "cell_type": "code",
   "execution_count": 18,
   "id": "7fa33d66",
   "metadata": {},
   "outputs": [
    {
     "data": {
      "text/plain": [
       "Condition\n",
       "Extremely Severe     4906\n",
       "Mild                 9562\n",
       "Moderate            12416\n",
       "Normal               2238\n",
       "Severe              10653\n",
       "dtype: int64"
      ]
     },
     "execution_count": 18,
     "metadata": {},
     "output_type": "execute_result"
    }
   ],
   "source": [
    "occur=stress.groupby(['Condition']).size()\n",
    "occur"
   ]
  },
  {
   "cell_type": "code",
   "execution_count": 19,
   "id": "dad5d8be",
   "metadata": {},
   "outputs": [
    {
     "name": "stderr",
     "output_type": "stream",
     "text": [
      "C:\\Users\\91897\\anaconda3\\envs\\py37\\lib\\site-packages\\seaborn\\_decorators.py:43: FutureWarning: Pass the following variable as a keyword arg: x. From version 0.12, the only valid positional argument will be `data`, and passing other arguments without an explicit keyword will result in an error or misinterpretation.\n",
      "  FutureWarning\n"
     ]
    },
    {
     "data": {
      "text/plain": [
       "Text(0.5, 1.0, 'People Condition of Stress Level')"
      ]
     },
     "execution_count": 19,
     "metadata": {},
     "output_type": "execute_result"
    },
    {
     "data": {
      "image/png": "[encoded data removed]",
      "text/plain": [
       "<Figure size 720x432 with 1 Axes>"
      ]
     },
     "metadata": {
      "needs_background": "light"
     },
     "output_type": "display_data"
    }
   ],
   "source": [
    "plt.figure(figsize=(10,6))\n",
    "sns.countplot(stress.sort_values('Condition').Condition)\n",
    "plt.title('People Condition of Stress Level',fontsize=15)"
   ]
  },
  {
   "cell_type": "code",
   "execution_count": 20,
   "id": "a086f752",
   "metadata": {},
   "outputs": [],
   "source": [
    "def condition(x):\n",
    "    if x<=18:\n",
    "        return 0\n",
    "    if  19<=x<=28:\n",
    "        return 1\n",
    "    if 29<=x<=38:\n",
    "        return 2\n",
    "    if 39<=x<=48:\n",
    "        return 3\n",
    "    if x>48:\n",
    "        return 4\n",
    "    \n",
    "stress['Condition']=stress['Total_Count'].apply(condition)\n",
    "stress=stress.drop(columns=['Total_Count'])"
   ]
  },
  {
   "cell_type": "code",
   "execution_count": 21,
   "id": "388b65c8",
   "metadata": {},
   "outputs": [
    {
     "data": {
      "text/html": [
       "<div>\n",
       "<style scoped>\n",
       "    .dataframe tbody tr th:only-of-type {\n",
       "        vertical-align: middle;\n",
       "    }\n",
       "\n",
       "    .dataframe tbody tr th {\n",
       "        vertical-align: top;\n",
       "    }\n",
       "\n",
       "    .dataframe thead th {\n",
       "        text-align: right;\n",
       "    }\n",
       "</style>\n",
       "<table border=\"1\" class=\"dataframe\">\n",
       "  <thead>\n",
       "    <tr style=\"text-align: right;\">\n",
       "      <th></th>\n",
       "      <th>Q1A</th>\n",
       "      <th>Q6A</th>\n",
       "      <th>Q8A</th>\n",
       "      <th>Q11A</th>\n",
       "      <th>Q12A</th>\n",
       "      <th>Q14A</th>\n",
       "      <th>Q18A</th>\n",
       "      <th>Q22A</th>\n",
       "      <th>Q27A</th>\n",
       "      <th>Q29A</th>\n",
       "      <th>Q32A</th>\n",
       "      <th>Q33A</th>\n",
       "      <th>Q35A</th>\n",
       "      <th>Q39A</th>\n",
       "      <th>Condition</th>\n",
       "    </tr>\n",
       "  </thead>\n",
       "  <tbody>\n",
       "    <tr>\n",
       "      <th>0</th>\n",
       "      <td>4</td>\n",
       "      <td>4</td>\n",
       "      <td>4</td>\n",
       "      <td>4</td>\n",
       "      <td>4</td>\n",
       "      <td>4</td>\n",
       "      <td>4</td>\n",
       "      <td>4</td>\n",
       "      <td>4</td>\n",
       "      <td>4</td>\n",
       "      <td>4</td>\n",
       "      <td>2</td>\n",
       "      <td>4</td>\n",
       "      <td>4</td>\n",
       "      <td>4</td>\n",
       "    </tr>\n",
       "    <tr>\n",
       "      <th>1</th>\n",
       "      <td>4</td>\n",
       "      <td>4</td>\n",
       "      <td>4</td>\n",
       "      <td>2</td>\n",
       "      <td>2</td>\n",
       "      <td>4</td>\n",
       "      <td>2</td>\n",
       "      <td>3</td>\n",
       "      <td>3</td>\n",
       "      <td>3</td>\n",
       "      <td>3</td>\n",
       "      <td>3</td>\n",
       "      <td>2</td>\n",
       "      <td>2</td>\n",
       "      <td>3</td>\n",
       "    </tr>\n",
       "    <tr>\n",
       "      <th>2</th>\n",
       "      <td>3</td>\n",
       "      <td>3</td>\n",
       "      <td>3</td>\n",
       "      <td>2</td>\n",
       "      <td>1</td>\n",
       "      <td>1</td>\n",
       "      <td>2</td>\n",
       "      <td>3</td>\n",
       "      <td>2</td>\n",
       "      <td>2</td>\n",
       "      <td>3</td>\n",
       "      <td>1</td>\n",
       "      <td>3</td>\n",
       "      <td>2</td>\n",
       "      <td>2</td>\n",
       "    </tr>\n",
       "    <tr>\n",
       "      <th>3</th>\n",
       "      <td>2</td>\n",
       "      <td>3</td>\n",
       "      <td>2</td>\n",
       "      <td>2</td>\n",
       "      <td>1</td>\n",
       "      <td>4</td>\n",
       "      <td>1</td>\n",
       "      <td>1</td>\n",
       "      <td>4</td>\n",
       "      <td>3</td>\n",
       "      <td>1</td>\n",
       "      <td>2</td>\n",
       "      <td>1</td>\n",
       "      <td>3</td>\n",
       "      <td>2</td>\n",
       "    </tr>\n",
       "    <tr>\n",
       "      <th>4</th>\n",
       "      <td>2</td>\n",
       "      <td>2</td>\n",
       "      <td>4</td>\n",
       "      <td>2</td>\n",
       "      <td>4</td>\n",
       "      <td>4</td>\n",
       "      <td>4</td>\n",
       "      <td>3</td>\n",
       "      <td>2</td>\n",
       "      <td>2</td>\n",
       "      <td>4</td>\n",
       "      <td>4</td>\n",
       "      <td>3</td>\n",
       "      <td>3</td>\n",
       "      <td>3</td>\n",
       "    </tr>\n",
       "    <tr>\n",
       "      <th>...</th>\n",
       "      <td>...</td>\n",
       "      <td>...</td>\n",
       "      <td>...</td>\n",
       "      <td>...</td>\n",
       "      <td>...</td>\n",
       "      <td>...</td>\n",
       "      <td>...</td>\n",
       "      <td>...</td>\n",
       "      <td>...</td>\n",
       "      <td>...</td>\n",
       "      <td>...</td>\n",
       "      <td>...</td>\n",
       "      <td>...</td>\n",
       "      <td>...</td>\n",
       "      <td>...</td>\n",
       "    </tr>\n",
       "    <tr>\n",
       "      <th>39770</th>\n",
       "      <td>2</td>\n",
       "      <td>2</td>\n",
       "      <td>3</td>\n",
       "      <td>2</td>\n",
       "      <td>2</td>\n",
       "      <td>2</td>\n",
       "      <td>2</td>\n",
       "      <td>3</td>\n",
       "      <td>2</td>\n",
       "      <td>3</td>\n",
       "      <td>1</td>\n",
       "      <td>2</td>\n",
       "      <td>1</td>\n",
       "      <td>2</td>\n",
       "      <td>2</td>\n",
       "    </tr>\n",
       "    <tr>\n",
       "      <th>39771</th>\n",
       "      <td>3</td>\n",
       "      <td>4</td>\n",
       "      <td>4</td>\n",
       "      <td>4</td>\n",
       "      <td>4</td>\n",
       "      <td>4</td>\n",
       "      <td>3</td>\n",
       "      <td>4</td>\n",
       "      <td>3</td>\n",
       "      <td>3</td>\n",
       "      <td>3</td>\n",
       "      <td>3</td>\n",
       "      <td>3</td>\n",
       "      <td>3</td>\n",
       "      <td>3</td>\n",
       "    </tr>\n",
       "    <tr>\n",
       "      <th>39772</th>\n",
       "      <td>2</td>\n",
       "      <td>1</td>\n",
       "      <td>1</td>\n",
       "      <td>1</td>\n",
       "      <td>1</td>\n",
       "      <td>1</td>\n",
       "      <td>1</td>\n",
       "      <td>1</td>\n",
       "      <td>2</td>\n",
       "      <td>2</td>\n",
       "      <td>1</td>\n",
       "      <td>2</td>\n",
       "      <td>1</td>\n",
       "      <td>2</td>\n",
       "      <td>1</td>\n",
       "    </tr>\n",
       "    <tr>\n",
       "      <th>39773</th>\n",
       "      <td>3</td>\n",
       "      <td>3</td>\n",
       "      <td>4</td>\n",
       "      <td>3</td>\n",
       "      <td>3</td>\n",
       "      <td>4</td>\n",
       "      <td>3</td>\n",
       "      <td>4</td>\n",
       "      <td>4</td>\n",
       "      <td>3</td>\n",
       "      <td>3</td>\n",
       "      <td>4</td>\n",
       "      <td>3</td>\n",
       "      <td>3</td>\n",
       "      <td>3</td>\n",
       "    </tr>\n",
       "    <tr>\n",
       "      <th>39774</th>\n",
       "      <td>2</td>\n",
       "      <td>2</td>\n",
       "      <td>1</td>\n",
       "      <td>3</td>\n",
       "      <td>1</td>\n",
       "      <td>1</td>\n",
       "      <td>3</td>\n",
       "      <td>2</td>\n",
       "      <td>3</td>\n",
       "      <td>3</td>\n",
       "      <td>2</td>\n",
       "      <td>2</td>\n",
       "      <td>2</td>\n",
       "      <td>3</td>\n",
       "      <td>2</td>\n",
       "    </tr>\n",
       "  </tbody>\n",
       "</table>\n",
       "<p>39775 rows × 15 columns</p>\n",
       "</div>"
      ],
      "text/plain": [
       "       Q1A  Q6A  Q8A  Q11A  Q12A  Q14A  Q18A  Q22A  Q27A  Q29A  Q32A  Q33A  \\\n",
       "0        4    4    4     4     4     4     4     4     4     4     4     2   \n",
       "1        4    4    4     2     2     4     2     3     3     3     3     3   \n",
       "2        3    3    3     2     1     1     2     3     2     2     3     1   \n",
       "3        2    3    2     2     1     4     1     1     4     3     1     2   \n",
       "4        2    2    4     2     4     4     4     3     2     2     4     4   \n",
       "...    ...  ...  ...   ...   ...   ...   ...   ...   ...   ...   ...   ...   \n",
       "39770    2    2    3     2     2     2     2     3     2     3     1     2   \n",
       "39771    3    4    4     4     4     4     3     4     3     3     3     3   \n",
       "39772    2    1    1     1     1     1     1     1     2     2     1     2   \n",
       "39773    3    3    4     3     3     4     3     4     4     3     3     4   \n",
       "39774    2    2    1     3     1     1     3     2     3     3     2     2   \n",
       "\n",
       "       Q35A  Q39A  Condition  \n",
       "0         4     4          4  \n",
       "1         2     2          3  \n",
       "2         3     2          2  \n",
       "3         1     3          2  \n",
       "4         3     3          3  \n",
       "...     ...   ...        ...  \n",
       "39770     1     2          2  \n",
       "39771     3     3          3  \n",
       "39772     1     2          1  \n",
       "39773     3     3          3  \n",
       "39774     2     3          2  \n",
       "\n",
       "[39775 rows x 15 columns]"
      ]
     },
     "execution_count": 21,
     "metadata": {},
     "output_type": "execute_result"
    }
   ],
   "source": [
    "stress"
   ]
  },
  {
   "cell_type": "markdown",
   "id": "bf1061c3",
   "metadata": {},
   "source": [
    "Anxiety Set"
   ]
  },
  {
   "cell_type": "code",
   "execution_count": 22,
   "id": "fcaa3d8d",
   "metadata": {},
   "outputs": [
    {
     "data": {
      "text/html": [
       "<div>\n",
       "<style scoped>\n",
       "    .dataframe tbody tr th:only-of-type {\n",
       "        vertical-align: middle;\n",
       "    }\n",
       "\n",
       "    .dataframe tbody tr th {\n",
       "        vertical-align: top;\n",
       "    }\n",
       "\n",
       "    .dataframe thead th {\n",
       "        text-align: right;\n",
       "    }\n",
       "</style>\n",
       "<table border=\"1\" class=\"dataframe\">\n",
       "  <thead>\n",
       "    <tr style=\"text-align: right;\">\n",
       "      <th></th>\n",
       "      <th>Q2A</th>\n",
       "      <th>Q4A</th>\n",
       "      <th>Q7A</th>\n",
       "      <th>Q9A</th>\n",
       "      <th>Q15A</th>\n",
       "      <th>Q19A</th>\n",
       "      <th>Q20A</th>\n",
       "      <th>Q23A</th>\n",
       "      <th>Q25A</th>\n",
       "      <th>Q28A</th>\n",
       "      <th>Q30A</th>\n",
       "      <th>Q36A</th>\n",
       "      <th>Q40A</th>\n",
       "      <th>Q41A</th>\n",
       "      <th>Total_Count</th>\n",
       "    </tr>\n",
       "  </thead>\n",
       "  <tbody>\n",
       "    <tr>\n",
       "      <th>0</th>\n",
       "      <td>4</td>\n",
       "      <td>4</td>\n",
       "      <td>4</td>\n",
       "      <td>2</td>\n",
       "      <td>4</td>\n",
       "      <td>3</td>\n",
       "      <td>3</td>\n",
       "      <td>4</td>\n",
       "      <td>4</td>\n",
       "      <td>3</td>\n",
       "      <td>2</td>\n",
       "      <td>4</td>\n",
       "      <td>3</td>\n",
       "      <td>4</td>\n",
       "      <td>48</td>\n",
       "    </tr>\n",
       "    <tr>\n",
       "      <th>1</th>\n",
       "      <td>1</td>\n",
       "      <td>3</td>\n",
       "      <td>3</td>\n",
       "      <td>3</td>\n",
       "      <td>3</td>\n",
       "      <td>1</td>\n",
       "      <td>1</td>\n",
       "      <td>1</td>\n",
       "      <td>2</td>\n",
       "      <td>4</td>\n",
       "      <td>3</td>\n",
       "      <td>3</td>\n",
       "      <td>1</td>\n",
       "      <td>2</td>\n",
       "      <td>31</td>\n",
       "    </tr>\n",
       "    <tr>\n",
       "      <th>2</th>\n",
       "      <td>1</td>\n",
       "      <td>1</td>\n",
       "      <td>1</td>\n",
       "      <td>2</td>\n",
       "      <td>4</td>\n",
       "      <td>2</td>\n",
       "      <td>1</td>\n",
       "      <td>2</td>\n",
       "      <td>2</td>\n",
       "      <td>1</td>\n",
       "      <td>2</td>\n",
       "      <td>4</td>\n",
       "      <td>2</td>\n",
       "      <td>1</td>\n",
       "      <td>26</td>\n",
       "    </tr>\n",
       "    <tr>\n",
       "      <th>3</th>\n",
       "      <td>3</td>\n",
       "      <td>1</td>\n",
       "      <td>4</td>\n",
       "      <td>3</td>\n",
       "      <td>2</td>\n",
       "      <td>1</td>\n",
       "      <td>2</td>\n",
       "      <td>1</td>\n",
       "      <td>1</td>\n",
       "      <td>1</td>\n",
       "      <td>3</td>\n",
       "      <td>1</td>\n",
       "      <td>4</td>\n",
       "      <td>4</td>\n",
       "      <td>31</td>\n",
       "    </tr>\n",
       "    <tr>\n",
       "      <th>4</th>\n",
       "      <td>2</td>\n",
       "      <td>4</td>\n",
       "      <td>4</td>\n",
       "      <td>4</td>\n",
       "      <td>4</td>\n",
       "      <td>4</td>\n",
       "      <td>4</td>\n",
       "      <td>4</td>\n",
       "      <td>4</td>\n",
       "      <td>4</td>\n",
       "      <td>4</td>\n",
       "      <td>4</td>\n",
       "      <td>4</td>\n",
       "      <td>4</td>\n",
       "      <td>54</td>\n",
       "    </tr>\n",
       "  </tbody>\n",
       "</table>\n",
       "</div>"
      ],
      "text/plain": [
       "   Q2A  Q4A  Q7A  Q9A  Q15A  Q19A  Q20A  Q23A  Q25A  Q28A  Q30A  Q36A  Q40A  \\\n",
       "0    4    4    4    2     4     3     3     4     4     3     2     4     3   \n",
       "1    1    3    3    3     3     1     1     1     2     4     3     3     1   \n",
       "2    1    1    1    2     4     2     1     2     2     1     2     4     2   \n",
       "3    3    1    4    3     2     1     2     1     1     1     3     1     4   \n",
       "4    2    4    4    4     4     4     4     4     4     4     4     4     4   \n",
       "\n",
       "   Q41A  Total_Count  \n",
       "0     4           48  \n",
       "1     2           31  \n",
       "2     1           26  \n",
       "3     4           31  \n",
       "4     4           54  "
      ]
     },
     "execution_count": 22,
     "metadata": {},
     "output_type": "execute_result"
    }
   ],
   "source": [
    "anxiety.head()"
   ]
  },
  {
   "cell_type": "code",
   "execution_count": 23,
   "id": "17daf8bd",
   "metadata": {},
   "outputs": [
    {
     "data": {
      "text/html": [
       "<div>\n",
       "<style scoped>\n",
       "    .dataframe tbody tr th:only-of-type {\n",
       "        vertical-align: middle;\n",
       "    }\n",
       "\n",
       "    .dataframe tbody tr th {\n",
       "        vertical-align: top;\n",
       "    }\n",
       "\n",
       "    .dataframe thead th {\n",
       "        text-align: right;\n",
       "    }\n",
       "</style>\n",
       "<table border=\"1\" class=\"dataframe\">\n",
       "  <thead>\n",
       "    <tr style=\"text-align: right;\">\n",
       "      <th></th>\n",
       "      <th>Q2A</th>\n",
       "      <th>Q4A</th>\n",
       "      <th>Q7A</th>\n",
       "      <th>Q9A</th>\n",
       "      <th>Q15A</th>\n",
       "      <th>Q19A</th>\n",
       "      <th>Q20A</th>\n",
       "      <th>Q23A</th>\n",
       "      <th>Q25A</th>\n",
       "      <th>Q28A</th>\n",
       "      <th>Q30A</th>\n",
       "      <th>Q36A</th>\n",
       "      <th>Q40A</th>\n",
       "      <th>Q41A</th>\n",
       "      <th>Total_Count</th>\n",
       "      <th>Condition</th>\n",
       "    </tr>\n",
       "  </thead>\n",
       "  <tbody>\n",
       "    <tr>\n",
       "      <th>0</th>\n",
       "      <td>4</td>\n",
       "      <td>4</td>\n",
       "      <td>4</td>\n",
       "      <td>2</td>\n",
       "      <td>4</td>\n",
       "      <td>3</td>\n",
       "      <td>3</td>\n",
       "      <td>4</td>\n",
       "      <td>4</td>\n",
       "      <td>3</td>\n",
       "      <td>2</td>\n",
       "      <td>4</td>\n",
       "      <td>3</td>\n",
       "      <td>4</td>\n",
       "      <td>48</td>\n",
       "      <td>Severe</td>\n",
       "    </tr>\n",
       "    <tr>\n",
       "      <th>1</th>\n",
       "      <td>1</td>\n",
       "      <td>3</td>\n",
       "      <td>3</td>\n",
       "      <td>3</td>\n",
       "      <td>3</td>\n",
       "      <td>1</td>\n",
       "      <td>1</td>\n",
       "      <td>1</td>\n",
       "      <td>2</td>\n",
       "      <td>4</td>\n",
       "      <td>3</td>\n",
       "      <td>3</td>\n",
       "      <td>1</td>\n",
       "      <td>2</td>\n",
       "      <td>31</td>\n",
       "      <td>Moderate</td>\n",
       "    </tr>\n",
       "    <tr>\n",
       "      <th>2</th>\n",
       "      <td>1</td>\n",
       "      <td>1</td>\n",
       "      <td>1</td>\n",
       "      <td>2</td>\n",
       "      <td>4</td>\n",
       "      <td>2</td>\n",
       "      <td>1</td>\n",
       "      <td>2</td>\n",
       "      <td>2</td>\n",
       "      <td>1</td>\n",
       "      <td>2</td>\n",
       "      <td>4</td>\n",
       "      <td>2</td>\n",
       "      <td>1</td>\n",
       "      <td>26</td>\n",
       "      <td>Mild</td>\n",
       "    </tr>\n",
       "    <tr>\n",
       "      <th>3</th>\n",
       "      <td>3</td>\n",
       "      <td>1</td>\n",
       "      <td>4</td>\n",
       "      <td>3</td>\n",
       "      <td>2</td>\n",
       "      <td>1</td>\n",
       "      <td>2</td>\n",
       "      <td>1</td>\n",
       "      <td>1</td>\n",
       "      <td>1</td>\n",
       "      <td>3</td>\n",
       "      <td>1</td>\n",
       "      <td>4</td>\n",
       "      <td>4</td>\n",
       "      <td>31</td>\n",
       "      <td>Moderate</td>\n",
       "    </tr>\n",
       "    <tr>\n",
       "      <th>4</th>\n",
       "      <td>2</td>\n",
       "      <td>4</td>\n",
       "      <td>4</td>\n",
       "      <td>4</td>\n",
       "      <td>4</td>\n",
       "      <td>4</td>\n",
       "      <td>4</td>\n",
       "      <td>4</td>\n",
       "      <td>4</td>\n",
       "      <td>4</td>\n",
       "      <td>4</td>\n",
       "      <td>4</td>\n",
       "      <td>4</td>\n",
       "      <td>4</td>\n",
       "      <td>54</td>\n",
       "      <td>Extremely Severe</td>\n",
       "    </tr>\n",
       "  </tbody>\n",
       "</table>\n",
       "</div>"
      ],
      "text/plain": [
       "   Q2A  Q4A  Q7A  Q9A  Q15A  Q19A  Q20A  Q23A  Q25A  Q28A  Q30A  Q36A  Q40A  \\\n",
       "0    4    4    4    2     4     3     3     4     4     3     2     4     3   \n",
       "1    1    3    3    3     3     1     1     1     2     4     3     3     1   \n",
       "2    1    1    1    2     4     2     1     2     2     1     2     4     2   \n",
       "3    3    1    4    3     2     1     2     1     1     1     3     1     4   \n",
       "4    2    4    4    4     4     4     4     4     4     4     4     4     4   \n",
       "\n",
       "   Q41A  Total_Count         Condition  \n",
       "0     4           48            Severe  \n",
       "1     2           31          Moderate  \n",
       "2     1           26              Mild  \n",
       "3     4           31          Moderate  \n",
       "4     4           54  Extremely Severe  "
      ]
     },
     "execution_count": 23,
     "metadata": {},
     "output_type": "execute_result"
    }
   ],
   "source": [
    "def condition(x):\n",
    "    if x<=18:\n",
    "        return 'Normal'\n",
    "    if  19<=x<=28:\n",
    "        return 'Mild'\n",
    "    if 29<=x<=38:\n",
    "        return 'Moderate'\n",
    "    if 39<=x<=48:\n",
    "        return 'Severe'\n",
    "    if x>48:\n",
    "        return 'Extremely Severe'\n",
    "\n",
    "anxiety['Condition']=anxiety['Total_Count'].apply(condition)\n",
    "anxiety.head()"
   ]
  },
  {
   "cell_type": "code",
   "execution_count": 24,
   "id": "39030068",
   "metadata": {},
   "outputs": [
    {
     "data": {
      "text/plain": [
       "Condition\n",
       "Extremely Severe     2117\n",
       "Mild                13938\n",
       "Moderate            11439\n",
       "Normal               5602\n",
       "Severe               6679\n",
       "dtype: int64"
      ]
     },
     "execution_count": 24,
     "metadata": {},
     "output_type": "execute_result"
    }
   ],
   "source": [
    "occur=anxiety.groupby(['Condition']).size()\n",
    "occur"
   ]
  },
  {
   "cell_type": "code",
   "execution_count": 25,
   "id": "c82fc489",
   "metadata": {},
   "outputs": [
    {
     "name": "stderr",
     "output_type": "stream",
     "text": [
      "C:\\Users\\91897\\anaconda3\\envs\\py37\\lib\\site-packages\\seaborn\\_decorators.py:43: FutureWarning: Pass the following variable as a keyword arg: x. From version 0.12, the only valid positional argument will be `data`, and passing other arguments without an explicit keyword will result in an error or misinterpretation.\n",
      "  FutureWarning\n"
     ]
    },
    {
     "data": {
      "text/plain": [
       "Text(0.5, 1.0, 'People Condition of Anxiety Level')"
      ]
     },
     "execution_count": 25,
     "metadata": {},
     "output_type": "execute_result"
    },
    {
     "data": {
      "image/png": "[encoded data removed]",
      "text/plain": [
       "<Figure size 720x432 with 1 Axes>"
      ]
     },
     "metadata": {
      "needs_background": "light"
     },
     "output_type": "display_data"
    }
   ],
   "source": [
    "plt.figure(figsize=(10,6))\n",
    "sns.countplot(anxiety.sort_values('Condition').Condition)\n",
    "plt.title('People Condition of Anxiety Level',fontsize=15)"
   ]
  },
  {
   "cell_type": "code",
   "execution_count": 26,
   "id": "5301de41",
   "metadata": {},
   "outputs": [],
   "source": [
    "def condition(x):\n",
    "    if x<=18:\n",
    "        return 0\n",
    "    if  19<=x<=28:\n",
    "        return 1\n",
    "    if 29<=x<=38:\n",
    "        return 2\n",
    "    if 39<=x<=48:\n",
    "        return 3\n",
    "    if x>48:\n",
    "        return 4\n",
    "    \n",
    "anxiety['Condition']=anxiety['Total_Count'].apply(condition)\n",
    "anxiety=anxiety.drop(columns=['Total_Count'])"
   ]
  },
  {
   "cell_type": "code",
   "execution_count": 27,
   "id": "1a4778fd",
   "metadata": {},
   "outputs": [
    {
     "data": {
      "text/html": [
       "<div>\n",
       "<style scoped>\n",
       "    .dataframe tbody tr th:only-of-type {\n",
       "        vertical-align: middle;\n",
       "    }\n",
       "\n",
       "    .dataframe tbody tr th {\n",
       "        vertical-align: top;\n",
       "    }\n",
       "\n",
       "    .dataframe thead th {\n",
       "        text-align: right;\n",
       "    }\n",
       "</style>\n",
       "<table border=\"1\" class=\"dataframe\">\n",
       "  <thead>\n",
       "    <tr style=\"text-align: right;\">\n",
       "      <th></th>\n",
       "      <th>Q2A</th>\n",
       "      <th>Q4A</th>\n",
       "      <th>Q7A</th>\n",
       "      <th>Q9A</th>\n",
       "      <th>Q15A</th>\n",
       "      <th>Q19A</th>\n",
       "      <th>Q20A</th>\n",
       "      <th>Q23A</th>\n",
       "      <th>Q25A</th>\n",
       "      <th>Q28A</th>\n",
       "      <th>Q30A</th>\n",
       "      <th>Q36A</th>\n",
       "      <th>Q40A</th>\n",
       "      <th>Q41A</th>\n",
       "      <th>Condition</th>\n",
       "    </tr>\n",
       "  </thead>\n",
       "  <tbody>\n",
       "    <tr>\n",
       "      <th>0</th>\n",
       "      <td>4</td>\n",
       "      <td>4</td>\n",
       "      <td>4</td>\n",
       "      <td>2</td>\n",
       "      <td>4</td>\n",
       "      <td>3</td>\n",
       "      <td>3</td>\n",
       "      <td>4</td>\n",
       "      <td>4</td>\n",
       "      <td>3</td>\n",
       "      <td>2</td>\n",
       "      <td>4</td>\n",
       "      <td>3</td>\n",
       "      <td>4</td>\n",
       "      <td>3</td>\n",
       "    </tr>\n",
       "    <tr>\n",
       "      <th>1</th>\n",
       "      <td>1</td>\n",
       "      <td>3</td>\n",
       "      <td>3</td>\n",
       "      <td>3</td>\n",
       "      <td>3</td>\n",
       "      <td>1</td>\n",
       "      <td>1</td>\n",
       "      <td>1</td>\n",
       "      <td>2</td>\n",
       "      <td>4</td>\n",
       "      <td>3</td>\n",
       "      <td>3</td>\n",
       "      <td>1</td>\n",
       "      <td>2</td>\n",
       "      <td>2</td>\n",
       "    </tr>\n",
       "    <tr>\n",
       "      <th>2</th>\n",
       "      <td>1</td>\n",
       "      <td>1</td>\n",
       "      <td>1</td>\n",
       "      <td>2</td>\n",
       "      <td>4</td>\n",
       "      <td>2</td>\n",
       "      <td>1</td>\n",
       "      <td>2</td>\n",
       "      <td>2</td>\n",
       "      <td>1</td>\n",
       "      <td>2</td>\n",
       "      <td>4</td>\n",
       "      <td>2</td>\n",
       "      <td>1</td>\n",
       "      <td>1</td>\n",
       "    </tr>\n",
       "    <tr>\n",
       "      <th>3</th>\n",
       "      <td>3</td>\n",
       "      <td>1</td>\n",
       "      <td>4</td>\n",
       "      <td>3</td>\n",
       "      <td>2</td>\n",
       "      <td>1</td>\n",
       "      <td>2</td>\n",
       "      <td>1</td>\n",
       "      <td>1</td>\n",
       "      <td>1</td>\n",
       "      <td>3</td>\n",
       "      <td>1</td>\n",
       "      <td>4</td>\n",
       "      <td>4</td>\n",
       "      <td>2</td>\n",
       "    </tr>\n",
       "    <tr>\n",
       "      <th>4</th>\n",
       "      <td>2</td>\n",
       "      <td>4</td>\n",
       "      <td>4</td>\n",
       "      <td>4</td>\n",
       "      <td>4</td>\n",
       "      <td>4</td>\n",
       "      <td>4</td>\n",
       "      <td>4</td>\n",
       "      <td>4</td>\n",
       "      <td>4</td>\n",
       "      <td>4</td>\n",
       "      <td>4</td>\n",
       "      <td>4</td>\n",
       "      <td>4</td>\n",
       "      <td>4</td>\n",
       "    </tr>\n",
       "    <tr>\n",
       "      <th>...</th>\n",
       "      <td>...</td>\n",
       "      <td>...</td>\n",
       "      <td>...</td>\n",
       "      <td>...</td>\n",
       "      <td>...</td>\n",
       "      <td>...</td>\n",
       "      <td>...</td>\n",
       "      <td>...</td>\n",
       "      <td>...</td>\n",
       "      <td>...</td>\n",
       "      <td>...</td>\n",
       "      <td>...</td>\n",
       "      <td>...</td>\n",
       "      <td>...</td>\n",
       "      <td>...</td>\n",
       "    </tr>\n",
       "    <tr>\n",
       "      <th>39770</th>\n",
       "      <td>1</td>\n",
       "      <td>2</td>\n",
       "      <td>1</td>\n",
       "      <td>1</td>\n",
       "      <td>1</td>\n",
       "      <td>4</td>\n",
       "      <td>3</td>\n",
       "      <td>1</td>\n",
       "      <td>2</td>\n",
       "      <td>2</td>\n",
       "      <td>2</td>\n",
       "      <td>2</td>\n",
       "      <td>3</td>\n",
       "      <td>1</td>\n",
       "      <td>1</td>\n",
       "    </tr>\n",
       "    <tr>\n",
       "      <th>39771</th>\n",
       "      <td>4</td>\n",
       "      <td>4</td>\n",
       "      <td>4</td>\n",
       "      <td>3</td>\n",
       "      <td>4</td>\n",
       "      <td>4</td>\n",
       "      <td>4</td>\n",
       "      <td>3</td>\n",
       "      <td>3</td>\n",
       "      <td>3</td>\n",
       "      <td>3</td>\n",
       "      <td>3</td>\n",
       "      <td>3</td>\n",
       "      <td>3</td>\n",
       "      <td>3</td>\n",
       "    </tr>\n",
       "    <tr>\n",
       "      <th>39772</th>\n",
       "      <td>1</td>\n",
       "      <td>1</td>\n",
       "      <td>1</td>\n",
       "      <td>2</td>\n",
       "      <td>1</td>\n",
       "      <td>1</td>\n",
       "      <td>1</td>\n",
       "      <td>1</td>\n",
       "      <td>1</td>\n",
       "      <td>1</td>\n",
       "      <td>1</td>\n",
       "      <td>1</td>\n",
       "      <td>1</td>\n",
       "      <td>1</td>\n",
       "      <td>0</td>\n",
       "    </tr>\n",
       "    <tr>\n",
       "      <th>39773</th>\n",
       "      <td>1</td>\n",
       "      <td>2</td>\n",
       "      <td>3</td>\n",
       "      <td>3</td>\n",
       "      <td>1</td>\n",
       "      <td>1</td>\n",
       "      <td>2</td>\n",
       "      <td>1</td>\n",
       "      <td>1</td>\n",
       "      <td>3</td>\n",
       "      <td>1</td>\n",
       "      <td>2</td>\n",
       "      <td>2</td>\n",
       "      <td>4</td>\n",
       "      <td>1</td>\n",
       "    </tr>\n",
       "    <tr>\n",
       "      <th>39774</th>\n",
       "      <td>1</td>\n",
       "      <td>1</td>\n",
       "      <td>1</td>\n",
       "      <td>1</td>\n",
       "      <td>1</td>\n",
       "      <td>4</td>\n",
       "      <td>3</td>\n",
       "      <td>1</td>\n",
       "      <td>2</td>\n",
       "      <td>2</td>\n",
       "      <td>1</td>\n",
       "      <td>2</td>\n",
       "      <td>3</td>\n",
       "      <td>1</td>\n",
       "      <td>1</td>\n",
       "    </tr>\n",
       "  </tbody>\n",
       "</table>\n",
       "<p>39775 rows × 15 columns</p>\n",
       "</div>"
      ],
      "text/plain": [
       "       Q2A  Q4A  Q7A  Q9A  Q15A  Q19A  Q20A  Q23A  Q25A  Q28A  Q30A  Q36A  \\\n",
       "0        4    4    4    2     4     3     3     4     4     3     2     4   \n",
       "1        1    3    3    3     3     1     1     1     2     4     3     3   \n",
       "2        1    1    1    2     4     2     1     2     2     1     2     4   \n",
       "3        3    1    4    3     2     1     2     1     1     1     3     1   \n",
       "4        2    4    4    4     4     4     4     4     4     4     4     4   \n",
       "...    ...  ...  ...  ...   ...   ...   ...   ...   ...   ...   ...   ...   \n",
       "39770    1    2    1    1     1     4     3     1     2     2     2     2   \n",
       "39771    4    4    4    3     4     4     4     3     3     3     3     3   \n",
       "39772    1    1    1    2     1     1     1     1     1     1     1     1   \n",
       "39773    1    2    3    3     1     1     2     1     1     3     1     2   \n",
       "39774    1    1    1    1     1     4     3     1     2     2     1     2   \n",
       "\n",
       "       Q40A  Q41A  Condition  \n",
       "0         3     4          3  \n",
       "1         1     2          2  \n",
       "2         2     1          1  \n",
       "3         4     4          2  \n",
       "4         4     4          4  \n",
       "...     ...   ...        ...  \n",
       "39770     3     1          1  \n",
       "39771     3     3          3  \n",
       "39772     1     1          0  \n",
       "39773     2     4          1  \n",
       "39774     3     1          1  \n",
       "\n",
       "[39775 rows x 15 columns]"
      ]
     },
     "execution_count": 27,
     "metadata": {},
     "output_type": "execute_result"
    }
   ],
   "source": [
    "anxiety"
   ]
  },
  {
   "cell_type": "code",
   "execution_count": 28,
   "id": "8712ce66",
   "metadata": {},
   "outputs": [],
   "source": [
    "from sklearn.model_selection import train_test_split,cross_val_score\n",
    "from sklearn.preprocessing import MinMaxScaler\n",
    "from sklearn.ensemble import RandomForestClassifier\n",
    "from sklearn.linear_model import LogisticRegression\n",
    "from sklearn.naive_bayes import GaussianNB\n",
    "from sklearn.tree import DecisionTreeClassifier\n",
    "from sklearn.neighbors import KNeighborsClassifier\n",
    "from sklearn import svm\n",
    "from sklearn.metrics import confusion_matrix,plot_confusion_matrix,accuracy_score,precision_score, recall_score, f1_score,roc_auc_score,classification_report,mean_squared_error"
   ]
  },
  {
   "cell_type": "markdown",
   "id": "08890bc5",
   "metadata": {},
   "source": [
    "# Model for Depression"
   ]
  },
  {
   "cell_type": "code",
   "execution_count": 29,
   "id": "afb37422",
   "metadata": {},
   "outputs": [],
   "source": [
    "scaler=MinMaxScaler()\n",
    "X=depression[['Q3A', 'Q5A', 'Q10A', 'Q13A', 'Q16A', 'Q17A', 'Q21A', 'Q24A', 'Q26A',\n",
    "       'Q31A', 'Q34A', 'Q37A', 'Q38A', 'Q42A']]\n",
    "y=depression[['Condition']]\n",
    "X_train,X_test,y_train,y_test=train_test_split(X,y,test_size=0.35,random_state=0)\n",
    "X_train_scaled = scaler.fit_transform(X_train)\n",
    "X_test_scaled = scaler.transform(X_test)"
   ]
  },
  {
   "cell_type": "code",
   "execution_count": 30,
   "id": "a9b70c35",
   "metadata": {},
   "outputs": [
    {
     "name": "stdout",
     "output_type": "stream",
     "text": [
      "Training Set: (25853, 14) (25853, 1)\n",
      "Test Set: (13922, 14) (13922, 1)\n"
     ]
    }
   ],
   "source": [
    "print('Training Set:',X_train.shape,y_train.shape)\n",
    "print('Test Set:',X_test.shape,y_test.shape)"
   ]
  },
  {
   "cell_type": "markdown",
   "id": "3e6c2a71",
   "metadata": {},
   "source": [
    "Random Forest"
   ]
  },
  {
   "cell_type": "code",
   "execution_count": 31,
   "id": "abe6896a",
   "metadata": {},
   "outputs": [
    {
     "name": "stderr",
     "output_type": "stream",
     "text": [
      "C:\\Users\\91897\\anaconda3\\envs\\py37\\lib\\site-packages\\ipykernel_launcher.py:1: DataConversionWarning: A column-vector y was passed when a 1d array was expected. Please change the shape of y to (n_samples,), for example using ravel().\n",
      "  \"\"\"Entry point for launching an IPython kernel.\n"
     ]
    },
    {
     "name": "stdout",
     "output_type": "stream",
     "text": [
      "Accuracy: 0.951\n",
      "F1_Score: 0.951\n",
      "Recall_Score: 0.951\n",
      "Precision_Score: 0.951\n"
     ]
    },
    {
     "name": "stderr",
     "output_type": "stream",
     "text": [
      "C:\\Users\\91897\\anaconda3\\envs\\py37\\lib\\site-packages\\sklearn\\model_selection\\_validation.py:593: DataConversionWarning: A column-vector y was passed when a 1d array was expected. Please change the shape of y to (n_samples,), for example using ravel().\n",
      "  estimator.fit(X_train, y_train, **fit_params)\n",
      "C:\\Users\\91897\\anaconda3\\envs\\py37\\lib\\site-packages\\sklearn\\model_selection\\_validation.py:593: DataConversionWarning: A column-vector y was passed when a 1d array was expected. Please change the shape of y to (n_samples,), for example using ravel().\n",
      "  estimator.fit(X_train, y_train, **fit_params)\n",
      "C:\\Users\\91897\\anaconda3\\envs\\py37\\lib\\site-packages\\sklearn\\model_selection\\_validation.py:593: DataConversionWarning: A column-vector y was passed when a 1d array was expected. Please change the shape of y to (n_samples,), for example using ravel().\n",
      "  estimator.fit(X_train, y_train, **fit_params)\n",
      "C:\\Users\\91897\\anaconda3\\envs\\py37\\lib\\site-packages\\sklearn\\model_selection\\_validation.py:593: DataConversionWarning: A column-vector y was passed when a 1d array was expected. Please change the shape of y to (n_samples,), for example using ravel().\n",
      "  estimator.fit(X_train, y_train, **fit_params)\n",
      "C:\\Users\\91897\\anaconda3\\envs\\py37\\lib\\site-packages\\sklearn\\model_selection\\_validation.py:593: DataConversionWarning: A column-vector y was passed when a 1d array was expected. Please change the shape of y to (n_samples,), for example using ravel().\n",
      "  estimator.fit(X_train, y_train, **fit_params)\n",
      "C:\\Users\\91897\\anaconda3\\envs\\py37\\lib\\site-packages\\sklearn\\model_selection\\_validation.py:593: DataConversionWarning: A column-vector y was passed when a 1d array was expected. Please change the shape of y to (n_samples,), for example using ravel().\n",
      "  estimator.fit(X_train, y_train, **fit_params)\n"
     ]
    },
    {
     "name": "stdout",
     "output_type": "stream",
     "text": [
      "Cross Validation Score: 0.95\n",
      "              precision    recall  f1-score   support\n",
      "\n",
      "           0     0.9435    0.9735    0.9583      1474\n",
      "           1     0.9626    0.9448    0.9536      3352\n",
      "           2     0.9405    0.9455    0.9430      3412\n",
      "           3     0.9482    0.9360    0.9420      3204\n",
      "           4     0.9603    0.9750    0.9676      2480\n",
      "\n",
      "    accuracy                         0.9514     13922\n",
      "   macro avg     0.9510    0.9550    0.9529     13922\n",
      "weighted avg     0.9514    0.9514    0.9513     13922\n",
      "\n"
     ]
    },
    {
     "data": {
      "text/plain": [
       "<sklearn.metrics._plot.confusion_matrix.ConfusionMatrixDisplay at 0x23e68081088>"
      ]
     },
     "execution_count": 31,
     "metadata": {},
     "output_type": "execute_result"
    },
    {
     "data": {
      "image/png": "[encoded data removed]",
      "text/plain": [
       "<Figure size 720x720 with 2 Axes>"
      ]
     },
     "metadata": {
      "needs_background": "light"
     },
     "output_type": "display_data"
    }
   ],
   "source": [
    "RanFor=RandomForestClassifier(n_estimators=190,min_samples_split=3,min_samples_leaf=1,max_depth=160,max_features='auto').fit(X_train_scaled,y_train)\n",
    "Acc_ran=round(accuracy_score(y_test,RanFor.predict(X_test_scaled)),3)\n",
    "f1_ran=round(f1_score(y_test,RanFor.predict(X_test_scaled),average='weighted'),3)\n",
    "recall_ran=round(recall_score(y_test,RanFor.predict(X_test_scaled),average='weighted'),3)\n",
    "precision_ran=round(precision_score(y_test,RanFor.predict(X_test_scaled),average='weighted'),3)\n",
    "print('Accuracy:',Acc_ran)\n",
    "print('F1_Score:',f1_ran)\n",
    "print('Recall_Score:',recall_ran)\n",
    "print('Precision_Score:',precision_ran)\n",
    "print('Cross Validation Score:',round(np.mean(cross_val_score(RanFor, X_train_scaled, y_train, cv = 6)),3))\n",
    "classification=classification_report(\n",
    "    digits=4,\n",
    "    y_true=y_test,\n",
    "    y_pred=RanFor.predict(X_test_scaled))\n",
    "print(classification)\n",
    "fig, ax = plt.subplots(figsize=(10, 10))\n",
    "plot_confusion_matrix(RanFor,X_test_scaled,y_test,ax=ax)"
   ]
  },
  {
   "cell_type": "markdown",
   "id": "8348da4d",
   "metadata": {},
   "source": [
    "Decision Trees"
   ]
  },
  {
   "cell_type": "code",
   "execution_count": 32,
   "id": "c444a62e",
   "metadata": {},
   "outputs": [
    {
     "name": "stdout",
     "output_type": "stream",
     "text": [
      "Accuracy: 0.847\n",
      "F1_Score: 0.846\n",
      "Recall_Score: 0.847\n",
      "Precision_Score: 0.846\n",
      "Cross Validation Score: 0.845\n",
      "              precision    recall  f1-score   support\n",
      "\n",
      "           0     0.8789    0.9206    0.8993      1474\n",
      "           1     0.8522    0.8616    0.8568      3352\n",
      "           2     0.7999    0.8048    0.8023      3412\n",
      "           3     0.8358    0.7896    0.8121      3204\n",
      "           4     0.8956    0.9133    0.9044      2480\n",
      "\n",
      "    accuracy                         0.8466     13922\n",
      "   macro avg     0.8525    0.8580    0.8550     13922\n",
      "weighted avg     0.8462    0.8466    0.8461     13922\n",
      "\n"
     ]
    },
    {
     "data": {
      "text/plain": [
       "<sklearn.metrics._plot.confusion_matrix.ConfusionMatrixDisplay at 0x23e61e0be08>"
      ]
     },
     "execution_count": 32,
     "metadata": {},
     "output_type": "execute_result"
    },
    {
     "data": {
      "image/png": "[encoded data removed]",
      "text/plain": [
       "<Figure size 720x720 with 2 Axes>"
      ]
     },
     "metadata": {
      "needs_background": "light"
     },
     "output_type": "display_data"
    }
   ],
   "source": [
    "DT=DecisionTreeClassifier(criterion='entropy',splitter='best',min_samples_split=9,min_samples_leaf=2,max_depth=100).fit(X_train_scaled,y_train)\n",
    "Acc_dt=round(accuracy_score(y_test,DT.predict(X_test_scaled)),3)\n",
    "f1_dt=round(f1_score(y_test,DT.predict(X_test_scaled),average='weighted'),3)\n",
    "recall_dt=round(recall_score(y_test,DT.predict(X_test_scaled),average='weighted'),3)\n",
    "precision_dt=round(precision_score(y_test,DT.predict(X_test_scaled),average='weighted'),3)\n",
    "print('Accuracy:',Acc_dt)\n",
    "print('F1_Score:',f1_dt)\n",
    "print('Recall_Score:',recall_dt)\n",
    "print('Precision_Score:',precision_dt)\n",
    "print('Cross Validation Score:',round(np.mean(cross_val_score(DT, X_train_scaled, y_train, cv = 6)),3))\n",
    "classification=classification_report(\n",
    "    digits=4,\n",
    "    y_true=y_test,\n",
    "    y_pred=DT.predict(X_test_scaled))\n",
    "print(classification)\n",
    "fig, ax = plt.subplots(figsize=(10, 10))\n",
    "plot_confusion_matrix(DT,X_test_scaled,y_test,ax=ax)"
   ]
  },
  {
   "cell_type": "markdown",
   "id": "a2699d5b",
   "metadata": {},
   "source": [
    "Gaussian Naive Bayes"
   ]
  },
  {
   "cell_type": "code",
   "execution_count": 33,
   "id": "24b5f0a0",
   "metadata": {},
   "outputs": [
    {
     "name": "stderr",
     "output_type": "stream",
     "text": [
      "C:\\Users\\91897\\anaconda3\\envs\\py37\\lib\\site-packages\\sklearn\\utils\\validation.py:63: DataConversionWarning: A column-vector y was passed when a 1d array was expected. Please change the shape of y to (n_samples, ), for example using ravel().\n",
      "  return f(*args, **kwargs)\n",
      "C:\\Users\\91897\\anaconda3\\envs\\py37\\lib\\site-packages\\sklearn\\utils\\validation.py:63: DataConversionWarning: A column-vector y was passed when a 1d array was expected. Please change the shape of y to (n_samples, ), for example using ravel().\n",
      "  return f(*args, **kwargs)\n",
      "C:\\Users\\91897\\anaconda3\\envs\\py37\\lib\\site-packages\\sklearn\\utils\\validation.py:63: DataConversionWarning: A column-vector y was passed when a 1d array was expected. Please change the shape of y to (n_samples, ), for example using ravel().\n",
      "  return f(*args, **kwargs)\n"
     ]
    },
    {
     "name": "stdout",
     "output_type": "stream",
     "text": [
      "Accuracy: 0.924\n",
      "F1_Score: 0.924\n",
      "Recall_Score: 0.924\n",
      "Precision_Score: 0.925\n"
     ]
    },
    {
     "name": "stderr",
     "output_type": "stream",
     "text": [
      "C:\\Users\\91897\\anaconda3\\envs\\py37\\lib\\site-packages\\sklearn\\utils\\validation.py:63: DataConversionWarning: A column-vector y was passed when a 1d array was expected. Please change the shape of y to (n_samples, ), for example using ravel().\n",
      "  return f(*args, **kwargs)\n",
      "C:\\Users\\91897\\anaconda3\\envs\\py37\\lib\\site-packages\\sklearn\\utils\\validation.py:63: DataConversionWarning: A column-vector y was passed when a 1d array was expected. Please change the shape of y to (n_samples, ), for example using ravel().\n",
      "  return f(*args, **kwargs)\n",
      "C:\\Users\\91897\\anaconda3\\envs\\py37\\lib\\site-packages\\sklearn\\utils\\validation.py:63: DataConversionWarning: A column-vector y was passed when a 1d array was expected. Please change the shape of y to (n_samples, ), for example using ravel().\n",
      "  return f(*args, **kwargs)\n",
      "C:\\Users\\91897\\anaconda3\\envs\\py37\\lib\\site-packages\\sklearn\\utils\\validation.py:63: DataConversionWarning: A column-vector y was passed when a 1d array was expected. Please change the shape of y to (n_samples, ), for example using ravel().\n",
      "  return f(*args, **kwargs)\n"
     ]
    },
    {
     "name": "stdout",
     "output_type": "stream",
     "text": [
      "Cross Validation Score: 0.919\n",
      "              precision    recall  f1-score   support\n",
      "\n",
      "           0     0.8967    0.9132    0.9049      1474\n",
      "           1     0.9254    0.9024    0.9138      3352\n",
      "           2     0.9249    0.9390    0.9319      3412\n",
      "           3     0.8985    0.9535    0.9252      3204\n",
      "           4     0.9733    0.8980    0.9341      2480\n",
      "\n",
      "    accuracy                         0.9235     13922\n",
      "   macro avg     0.9238    0.9212    0.9220     13922\n",
      "weighted avg     0.9246    0.9235    0.9235     13922\n",
      "\n"
     ]
    },
    {
     "data": {
      "text/plain": [
       "<sklearn.metrics._plot.confusion_matrix.ConfusionMatrixDisplay at 0x23e67e65d48>"
      ]
     },
     "execution_count": 33,
     "metadata": {},
     "output_type": "execute_result"
    },
    {
     "data": {
      "image/png": "[encoded data removed]",
      "text/plain": [
       "<Figure size 720x720 with 2 Axes>"
      ]
     },
     "metadata": {
      "needs_background": "light"
     },
     "output_type": "display_data"
    }
   ],
   "source": [
    "gb=GaussianNB().fit(X_train_scaled,y_train)\n",
    "Acc_gb=round(accuracy_score(y_test,gb.predict(X_test_scaled)),3)\n",
    "f1_gb=round(f1_score(y_test,gb.predict(X_test_scaled),average='weighted'),3)\n",
    "recall_gb=round(recall_score(y_test,gb.predict(X_test_scaled),average='weighted'),3)\n",
    "precision_gb=round(precision_score(y_test,gb.predict(X_test_scaled),average='weighted'),3)\n",
    "print('Accuracy:',Acc_gb)\n",
    "print('F1_Score:',f1_gb)\n",
    "print('Recall_Score:',recall_gb)\n",
    "print('Precision_Score:',precision_gb)\n",
    "print('Cross Validation Score:',round(np.mean(cross_val_score(gb, X_train_scaled, y_train, cv = 6)),3))\n",
    "classification=classification_report(\n",
    "    digits=4,\n",
    "    y_true=y_test,\n",
    "    y_pred=gb.predict(X_test_scaled))\n",
    "print(classification)\n",
    "fig, ax = plt.subplots(figsize=(10, 10))\n",
    "plot_confusion_matrix(gb,X_test_scaled,y_test,ax=ax)"
   ]
  },
  {
   "cell_type": "markdown",
   "id": "ef96fc46",
   "metadata": {},
   "source": [
    "Nearest Neighbour"
   ]
  },
  {
   "cell_type": "code",
   "execution_count": 34,
   "id": "48487b05",
   "metadata": {},
   "outputs": [
    {
     "name": "stderr",
     "output_type": "stream",
     "text": [
      "C:\\Users\\91897\\anaconda3\\envs\\py37\\lib\\site-packages\\sklearn\\neighbors\\_classification.py:179: DataConversionWarning: A column-vector y was passed when a 1d array was expected. Please change the shape of y to (n_samples,), for example using ravel().\n",
      "  return self._fit(X, y)\n"
     ]
    },
    {
     "name": "stdout",
     "output_type": "stream",
     "text": [
      "Accuracy: 0.922\n",
      "F1_Score: 0.922\n",
      "Recall_Score: 0.922\n",
      "Precision_Score: 0.927\n"
     ]
    },
    {
     "name": "stderr",
     "output_type": "stream",
     "text": [
      "C:\\Users\\91897\\anaconda3\\envs\\py37\\lib\\site-packages\\sklearn\\neighbors\\_classification.py:179: DataConversionWarning: A column-vector y was passed when a 1d array was expected. Please change the shape of y to (n_samples,), for example using ravel().\n",
      "  return self._fit(X, y)\n",
      "C:\\Users\\91897\\anaconda3\\envs\\py37\\lib\\site-packages\\sklearn\\neighbors\\_classification.py:179: DataConversionWarning: A column-vector y was passed when a 1d array was expected. Please change the shape of y to (n_samples,), for example using ravel().\n",
      "  return self._fit(X, y)\n",
      "C:\\Users\\91897\\anaconda3\\envs\\py37\\lib\\site-packages\\sklearn\\neighbors\\_classification.py:179: DataConversionWarning: A column-vector y was passed when a 1d array was expected. Please change the shape of y to (n_samples,), for example using ravel().\n",
      "  return self._fit(X, y)\n",
      "C:\\Users\\91897\\anaconda3\\envs\\py37\\lib\\site-packages\\sklearn\\neighbors\\_classification.py:179: DataConversionWarning: A column-vector y was passed when a 1d array was expected. Please change the shape of y to (n_samples,), for example using ravel().\n",
      "  return self._fit(X, y)\n",
      "C:\\Users\\91897\\anaconda3\\envs\\py37\\lib\\site-packages\\sklearn\\neighbors\\_classification.py:179: DataConversionWarning: A column-vector y was passed when a 1d array was expected. Please change the shape of y to (n_samples,), for example using ravel().\n",
      "  return self._fit(X, y)\n",
      "C:\\Users\\91897\\anaconda3\\envs\\py37\\lib\\site-packages\\sklearn\\neighbors\\_classification.py:179: DataConversionWarning: A column-vector y was passed when a 1d array was expected. Please change the shape of y to (n_samples,), for example using ravel().\n",
      "  return self._fit(X, y)\n"
     ]
    },
    {
     "name": "stdout",
     "output_type": "stream",
     "text": [
      "Cross Validation Score: 0.926\n",
      "              precision    recall  f1-score   support\n",
      "\n",
      "           0     0.8267    0.9939    0.9026      1474\n",
      "           1     0.9639    0.8672    0.9130      3352\n",
      "           2     0.9222    0.9417    0.9318      3412\n",
      "           3     0.9633    0.8674    0.9128      3204\n",
      "           4     0.8944    0.9972    0.9430      2480\n",
      "\n",
      "    accuracy                         0.9221     13922\n",
      "   macro avg     0.9141    0.9335    0.9207     13922\n",
      "weighted avg     0.9266    0.9221    0.9218     13922\n",
      "\n"
     ]
    },
    {
     "data": {
      "text/plain": [
       "<sklearn.metrics._plot.confusion_matrix.ConfusionMatrixDisplay at 0x23e67f5fa88>"
      ]
     },
     "execution_count": 34,
     "metadata": {},
     "output_type": "execute_result"
    },
    {
     "data": {
      "image/png": "[encoded data removed]",
      "text/plain": [
       "<Figure size 720x720 with 2 Axes>"
      ]
     },
     "metadata": {
      "needs_background": "light"
     },
     "output_type": "display_data"
    }
   ],
   "source": [
    "knn=KNeighborsClassifier(n_neighbors=15).fit(X_train_scaled,y_train)\n",
    "Acc_knn=round(accuracy_score(y_test,knn.predict(X_test_scaled)),3)\n",
    "f1_knn=round(f1_score(y_test,knn.predict(X_test_scaled),average='weighted'),3)\n",
    "recall_knn=round(recall_score(y_test,knn.predict(X_test_scaled),average='weighted'),3)\n",
    "precision_knn=round(precision_score(y_test,knn.predict(X_test_scaled),average='weighted'),3)\n",
    "print('Accuracy:',Acc_knn)\n",
    "print('F1_Score:',f1_knn)\n",
    "print('Recall_Score:',recall_knn)\n",
    "print('Precision_Score:',precision_knn)\n",
    "print('Cross Validation Score:',round(np.mean(cross_val_score(knn, X_train_scaled, y_train, cv = 6)),3))\n",
    "classification=classification_report(\n",
    "    digits=4,\n",
    "    y_true=y_test,\n",
    "    y_pred=knn.predict(X_test_scaled))\n",
    "print(classification)\n",
    "fig, ax = plt.subplots(figsize=(10, 10))\n",
    "plot_confusion_matrix(knn,X_test_scaled,y_test,ax=ax)"
   ]
  },
  {
   "cell_type": "markdown",
   "id": "e8939a7c",
   "metadata": {},
   "source": [
    "SVM"
   ]
  },
  {
   "cell_type": "code",
   "execution_count": 35,
   "id": "77978dd8",
   "metadata": {},
   "outputs": [
    {
     "name": "stderr",
     "output_type": "stream",
     "text": [
      "C:\\Users\\91897\\anaconda3\\envs\\py37\\lib\\site-packages\\sklearn\\utils\\validation.py:63: DataConversionWarning: A column-vector y was passed when a 1d array was expected. Please change the shape of y to (n_samples, ), for example using ravel().\n",
      "  return f(*args, **kwargs)\n"
     ]
    },
    {
     "name": "stdout",
     "output_type": "stream",
     "text": [
      "Accuracy: 1.0\n",
      "F1_Score: 1.0\n",
      "Recall_Score: 1.0\n",
      "Precision_Score: 1.0\n"
     ]
    },
    {
     "name": "stderr",
     "output_type": "stream",
     "text": [
      "C:\\Users\\91897\\anaconda3\\envs\\py37\\lib\\site-packages\\sklearn\\utils\\validation.py:63: DataConversionWarning: A column-vector y was passed when a 1d array was expected. Please change the shape of y to (n_samples, ), for example using ravel().\n",
      "  return f(*args, **kwargs)\n",
      "C:\\Users\\91897\\anaconda3\\envs\\py37\\lib\\site-packages\\sklearn\\utils\\validation.py:63: DataConversionWarning: A column-vector y was passed when a 1d array was expected. Please change the shape of y to (n_samples, ), for example using ravel().\n",
      "  return f(*args, **kwargs)\n",
      "C:\\Users\\91897\\anaconda3\\envs\\py37\\lib\\site-packages\\sklearn\\utils\\validation.py:63: DataConversionWarning: A column-vector y was passed when a 1d array was expected. Please change the shape of y to (n_samples, ), for example using ravel().\n",
      "  return f(*args, **kwargs)\n",
      "C:\\Users\\91897\\anaconda3\\envs\\py37\\lib\\site-packages\\sklearn\\utils\\validation.py:63: DataConversionWarning: A column-vector y was passed when a 1d array was expected. Please change the shape of y to (n_samples, ), for example using ravel().\n",
      "  return f(*args, **kwargs)\n",
      "C:\\Users\\91897\\anaconda3\\envs\\py37\\lib\\site-packages\\sklearn\\utils\\validation.py:63: DataConversionWarning: A column-vector y was passed when a 1d array was expected. Please change the shape of y to (n_samples, ), for example using ravel().\n",
      "  return f(*args, **kwargs)\n",
      "C:\\Users\\91897\\anaconda3\\envs\\py37\\lib\\site-packages\\sklearn\\utils\\validation.py:63: DataConversionWarning: A column-vector y was passed when a 1d array was expected. Please change the shape of y to (n_samples, ), for example using ravel().\n",
      "  return f(*args, **kwargs)\n"
     ]
    },
    {
     "name": "stdout",
     "output_type": "stream",
     "text": [
      "Cross Validation Score: 1.0\n",
      "              precision    recall  f1-score   support\n",
      "\n",
      "           0     1.0000    1.0000    1.0000      1474\n",
      "           1     1.0000    1.0000    1.0000      3352\n",
      "           2     1.0000    1.0000    1.0000      3412\n",
      "           3     1.0000    1.0000    1.0000      3204\n",
      "           4     1.0000    1.0000    1.0000      2480\n",
      "\n",
      "    accuracy                         1.0000     13922\n",
      "   macro avg     1.0000    1.0000    1.0000     13922\n",
      "weighted avg     1.0000    1.0000    1.0000     13922\n",
      "\n"
     ]
    },
    {
     "data": {
      "text/plain": [
       "<sklearn.metrics._plot.confusion_matrix.ConfusionMatrixDisplay at 0x23e70206bc8>"
      ]
     },
     "execution_count": 35,
     "metadata": {},
     "output_type": "execute_result"
    },
    {
     "data": {
      "image/png": "[encoded data removed]",
      "text/plain": [
       "<Figure size 720x720 with 2 Axes>"
      ]
     },
     "metadata": {
      "needs_background": "light"
     },
     "output_type": "display_data"
    }
   ],
   "source": [
    "from sklearn.svm import SVC\n",
    "svm=SVC(C=10,gamma=0.2,kernel='rbf').fit(X_train_scaled,y_train)\n",
    "Acc_svm=round(accuracy_score(y_test,svm.predict(X_test_scaled)),3)\n",
    "f1_svm=round(f1_score(y_test,svm.predict(X_test_scaled),average='weighted'),3)\n",
    "recall_svm=round(recall_score(y_test,svm.predict(X_test_scaled),average='weighted'),3)\n",
    "precision_svm=round(precision_score(y_test,svm.predict(X_test_scaled),average='weighted'),3)\n",
    "print('Accuracy:',Acc_svm)\n",
    "print('F1_Score:',f1_svm)\n",
    "print('Recall_Score:',recall_svm)\n",
    "print('Precision_Score:',precision_svm)\n",
    "print('Cross Validation Score:',round(np.mean(cross_val_score(svm, X_train_scaled, y_train, cv = 6)),3))\n",
    "classification=classification_report(\n",
    "    digits=4,\n",
    "    y_true=y_test,\n",
    "    y_pred=svm.predict(X_test_scaled))\n",
    "print(classification)\n",
    "fig, ax = plt.subplots(figsize=(10, 10))\n",
    "plot_confusion_matrix(svm,X_test_scaled,y_test,ax=ax)"
   ]
  },
  {
   "cell_type": "code",
   "execution_count": null,
   "id": "39605e6d",
   "metadata": {},
   "outputs": [],
   "source": []
  },
  {
   "cell_type": "code",
   "execution_count": 36,
   "id": "2ec1f028",
   "metadata": {},
   "outputs": [
    {
     "name": "stdout",
     "output_type": "stream",
     "text": [
      "Collecting xgboost\n",
      "  Using cached xgboost-1.6.2-py3-none-win_amd64.whl (125.4 MB)\n",
      "Requirement already satisfied: numpy in c:\\users\\91897\\appdata\\roaming\\python\\python37\\site-packages (from xgboost) (1.19.5)\n",
      "Requirement already satisfied: scipy in c:\\users\\91897\\anaconda3\\envs\\py37\\lib\\site-packages (from xgboost) (1.6.2)\n",
      "Installing collected packages: xgboost\n",
      "Successfully installed xgboost-1.6.2\n",
      "Note: you may need to restart the kernel to use updated packages.\n"
     ]
    },
    {
     "name": "stderr",
     "output_type": "stream",
     "text": [
      "WARNING: You are using pip version 21.3; however, version 22.3.1 is available.\n",
      "You should consider upgrading via the 'C:\\Users\\91897\\anaconda3\\envs\\py37\\python.exe -m pip install --upgrade pip' command.\n"
     ]
    }
   ],
   "source": [
    "pip install xgboost"
   ]
  },
  {
   "cell_type": "code",
   "execution_count": 37,
   "id": "6288fc9a",
   "metadata": {},
   "outputs": [],
   "source": [
    "import xgboost as xgb"
   ]
  },
  {
   "cell_type": "code",
   "execution_count": 57,
   "id": "0a5b69ee",
   "metadata": {},
   "outputs": [],
   "source": [
    "xgb_classifier = xgb.XGBClassifier()\n",
    "xgb_classifier.fit(X_train_scaled,y_train)\n",
    "predictions = xgb_classifier.predict(X_test_scaled)"
   ]
  },
  {
   "cell_type": "code",
   "execution_count": 64,
   "id": "b04b0c64",
   "metadata": {},
   "outputs": [
    {
     "name": "stdout",
     "output_type": "stream",
     "text": [
      "Accuracy of Model:: 0.9716994684671743\n",
      "F1_Score: 0.9716699232480379\n",
      "Recall_Score: 0.9716994684671743\n",
      "Precision_Score: 0.9716902165763796\n"
     ]
    }
   ],
   "source": [
    "print(\"Accuracy of Model::\",accuracy_score(y_test,predictions))\n",
    "print('F1_Score:',f1_score(y_test,predictions,average='weighted'))\n",
    "print('Recall_Score:',recall_score(y_test,predictions,average='weighted'))\n",
    "print('Precision_Score:',precision_score(y_test,predictions,average='weighted'))"
   ]
  },
  {
   "cell_type": "code",
   "execution_count": 65,
   "id": "d3e2cfda",
   "metadata": {},
   "outputs": [],
   "source": [
    "Accuracy_xg = accuracy_score(y_test,predictions)"
   ]
  },
  {
   "cell_type": "code",
   "execution_count": 66,
   "id": "f9e45d81",
   "metadata": {},
   "outputs": [],
   "source": [
    "classifier=['Random Forest', 'Decision Trees', 'Gaussian Naive Bayes', 'Nearest Neighbour', 'XG Boost']\n",
    "accuracy=[Acc_ran,Acc_dt,Acc_gb,Acc_knn,Accuracy_xg]\n",
    "df1 = pd.DataFrame(classifier, columns=['Classifier'])"
   ]
  },
  {
   "cell_type": "code",
   "execution_count": 67,
   "id": "eff15fde",
   "metadata": {},
   "outputs": [],
   "source": [
    "df1['accuracy']=accuracy"
   ]
  },
  {
   "cell_type": "code",
   "execution_count": 80,
   "id": "dcb58229",
   "metadata": {},
   "outputs": [
    {
     "data": {
      "text/plain": [
       "<AxesSubplot:xlabel='accuracy', ylabel='Classifier'>"
      ]
     },
     "execution_count": 80,
     "metadata": {},
     "output_type": "execute_result"
    },
    {
     "data": {
      "image/png": "[encoded data removed]",
      "text/plain": [
       "<Figure size 432x288 with 1 Axes>"
      ]
     },
     "metadata": {
      "needs_background": "light"
     },
     "output_type": "display_data"
    }
   ],
   "source": [
    "sns.barplot(y = 'Classifier',\n",
    "            x = 'accuracy',\n",
    "            data = df1,orient='h')\n"
   ]
  },
  {
   "cell_type": "markdown",
   "id": "9301bee8",
   "metadata": {},
   "source": [
    "# Model for Stress"
   ]
  },
  {
   "cell_type": "code",
   "execution_count": 85,
   "id": "0e14565e",
   "metadata": {},
   "outputs": [],
   "source": [
    "scaler=MinMaxScaler()\n",
    "X=stress[['Q1A', 'Q6A', 'Q8A', 'Q11A', 'Q12A', 'Q14A', 'Q18A', 'Q22A', 'Q27A',\n",
    "       'Q29A', 'Q32A', 'Q33A', 'Q35A', 'Q39A']]\n",
    "y=stress[['Condition']]\n",
    "X_train,X_test,y_train,y_test=train_test_split(X,y,test_size=0.35,random_state=0)\n",
    "X_train_scaled = scaler.fit_transform(X_train)\n",
    "X_test_scaled = scaler.transform(X_test)"
   ]
  },
  {
   "cell_type": "code",
   "execution_count": 86,
   "id": "c69d76b4",
   "metadata": {},
   "outputs": [
    {
     "name": "stdout",
     "output_type": "stream",
     "text": [
      "Training Set: (25853, 14) (25853, 1)\n",
      "Test Set: (13922, 14) (13922, 1)\n"
     ]
    }
   ],
   "source": [
    "print('Training Set:',X_train.shape,y_train.shape)\n",
    "print('Test Set:',X_test.shape,y_test.shape)"
   ]
  },
  {
   "cell_type": "code",
   "execution_count": null,
   "id": "fd2843a2",
   "metadata": {},
   "outputs": [],
   "source": []
  },
  {
   "cell_type": "markdown",
   "id": "074d8024",
   "metadata": {},
   "source": [
    "Random Forest"
   ]
  },
  {
   "cell_type": "code",
   "execution_count": 87,
   "id": "9260ab65",
   "metadata": {},
   "outputs": [
    {
     "name": "stderr",
     "output_type": "stream",
     "text": [
      "C:\\Users\\91897\\anaconda3\\envs\\py37\\lib\\site-packages\\ipykernel_launcher.py:1: DataConversionWarning: A column-vector y was passed when a 1d array was expected. Please change the shape of y to (n_samples,), for example using ravel().\n",
      "  \"\"\"Entry point for launching an IPython kernel.\n"
     ]
    },
    {
     "name": "stdout",
     "output_type": "stream",
     "text": [
      "Accuracy: 0.944\n",
      "F1_Score: 0.944\n",
      "Recall_Score: 0.944\n",
      "Precision_Score: 0.944\n"
     ]
    },
    {
     "name": "stderr",
     "output_type": "stream",
     "text": [
      "C:\\Users\\91897\\anaconda3\\envs\\py37\\lib\\site-packages\\sklearn\\model_selection\\_validation.py:593: DataConversionWarning: A column-vector y was passed when a 1d array was expected. Please change the shape of y to (n_samples,), for example using ravel().\n",
      "  estimator.fit(X_train, y_train, **fit_params)\n",
      "C:\\Users\\91897\\anaconda3\\envs\\py37\\lib\\site-packages\\sklearn\\model_selection\\_validation.py:593: DataConversionWarning: A column-vector y was passed when a 1d array was expected. Please change the shape of y to (n_samples,), for example using ravel().\n",
      "  estimator.fit(X_train, y_train, **fit_params)\n",
      "C:\\Users\\91897\\anaconda3\\envs\\py37\\lib\\site-packages\\sklearn\\model_selection\\_validation.py:593: DataConversionWarning: A column-vector y was passed when a 1d array was expected. Please change the shape of y to (n_samples,), for example using ravel().\n",
      "  estimator.fit(X_train, y_train, **fit_params)\n",
      "C:\\Users\\91897\\anaconda3\\envs\\py37\\lib\\site-packages\\sklearn\\model_selection\\_validation.py:593: DataConversionWarning: A column-vector y was passed when a 1d array was expected. Please change the shape of y to (n_samples,), for example using ravel().\n",
      "  estimator.fit(X_train, y_train, **fit_params)\n",
      "C:\\Users\\91897\\anaconda3\\envs\\py37\\lib\\site-packages\\sklearn\\model_selection\\_validation.py:593: DataConversionWarning: A column-vector y was passed when a 1d array was expected. Please change the shape of y to (n_samples,), for example using ravel().\n",
      "  estimator.fit(X_train, y_train, **fit_params)\n",
      "C:\\Users\\91897\\anaconda3\\envs\\py37\\lib\\site-packages\\sklearn\\model_selection\\_validation.py:593: DataConversionWarning: A column-vector y was passed when a 1d array was expected. Please change the shape of y to (n_samples,), for example using ravel().\n",
      "  estimator.fit(X_train, y_train, **fit_params)\n"
     ]
    },
    {
     "name": "stdout",
     "output_type": "stream",
     "text": [
      "Cross Validation Score: 0.944\n",
      "              precision    recall  f1-score   support\n",
      "\n",
      "           0     0.9558    0.9304    0.9429       790\n",
      "           1     0.9529    0.9468    0.9499      3401\n",
      "           2     0.9362    0.9431    0.9397      4342\n",
      "           3     0.9340    0.9483    0.9411      3730\n",
      "           4     0.9622    0.9355    0.9487      1659\n",
      "\n",
      "    accuracy                         0.9438     13922\n",
      "   macro avg     0.9482    0.9408    0.9444     13922\n",
      "weighted avg     0.9439    0.9438    0.9438     13922\n",
      "\n"
     ]
    },
    {
     "data": {
      "text/plain": [
       "<sklearn.metrics._plot.confusion_matrix.ConfusionMatrixDisplay at 0x23e716da0c8>"
      ]
     },
     "execution_count": 87,
     "metadata": {},
     "output_type": "execute_result"
    },
    {
     "data": {
      "image/png": "[encoded data removed]",
      "text/plain": [
       "<Figure size 720x720 with 2 Axes>"
      ]
     },
     "metadata": {
      "needs_background": "light"
     },
     "output_type": "display_data"
    }
   ],
   "source": [
    "RanFor=RandomForestClassifier(n_estimators=190,min_samples_split=3,min_samples_leaf=1,max_depth=160,max_features='auto').fit(X_train_scaled,y_train)\n",
    "Acc_ran=round(accuracy_score(y_test,RanFor.predict(X_test_scaled)),3)\n",
    "f1_ran=round(f1_score(y_test,RanFor.predict(X_test_scaled),average='weighted'),3)\n",
    "recall_ran=round(recall_score(y_test,RanFor.predict(X_test_scaled),average='weighted'),3)\n",
    "precision_ran=round(precision_score(y_test,RanFor.predict(X_test_scaled),average='weighted'),3)\n",
    "print('Accuracy:',Acc_ran)\n",
    "print('F1_Score:',f1_ran)\n",
    "print('Recall_Score:',recall_ran)\n",
    "print('Precision_Score:',precision_ran)\n",
    "print('Cross Validation Score:',round(np.mean(cross_val_score(RanFor, X_train_scaled, y_train, cv = 6)),3))\n",
    "classification=classification_report(\n",
    "    digits=4,\n",
    "    y_true=y_test,\n",
    "    y_pred=RanFor.predict(X_test_scaled))\n",
    "print(classification)\n",
    "fig, ax = plt.subplots(figsize=(10, 10))\n",
    "plot_confusion_matrix(RanFor,X_test_scaled,y_test,ax=ax)"
   ]
  },
  {
   "cell_type": "markdown",
   "id": "9b9433b8",
   "metadata": {},
   "source": [
    "Decision Tree"
   ]
  },
  {
   "cell_type": "code",
   "execution_count": 88,
   "id": "8804b7be",
   "metadata": {},
   "outputs": [
    {
     "name": "stdout",
     "output_type": "stream",
     "text": [
      "Accuracy: 0.821\n",
      "F1_Score: 0.821\n",
      "Recall_Score: 0.821\n",
      "Precision_Score: 0.821\n",
      "Cross Validation Score: 0.819\n",
      "              precision    recall  f1-score   support\n",
      "\n",
      "           0     0.8410    0.8367    0.8388       790\n",
      "           1     0.8322    0.8603    0.8460      3401\n",
      "           2     0.7995    0.7936    0.7966      4342\n",
      "           3     0.8181    0.7936    0.8057      3730\n",
      "           4     0.8493    0.8662    0.8577      1659\n",
      "\n",
      "    accuracy                         0.8210     13922\n",
      "   macro avg     0.8280    0.8301    0.8290     13922\n",
      "weighted avg     0.8208    0.8210    0.8208     13922\n",
      "\n"
     ]
    },
    {
     "data": {
      "text/plain": [
       "<sklearn.metrics._plot.confusion_matrix.ConfusionMatrixDisplay at 0x23e61856108>"
      ]
     },
     "execution_count": 88,
     "metadata": {},
     "output_type": "execute_result"
    },
    {
     "data": {
      "image/png": "[encoded data removed]",
      "text/plain": [
       "<Figure size 720x720 with 2 Axes>"
      ]
     },
     "metadata": {
      "needs_background": "light"
     },
     "output_type": "display_data"
    }
   ],
   "source": [
    "DT=DecisionTreeClassifier(criterion='entropy',splitter='best',min_samples_split=9,min_samples_leaf=2,max_depth=100).fit(X_train_scaled,y_train)\n",
    "Acc_dt=round(accuracy_score(y_test,DT.predict(X_test_scaled)),3)\n",
    "f1_dt=round(f1_score(y_test,DT.predict(X_test_scaled),average='weighted'),3)\n",
    "recall_dt=round(recall_score(y_test,DT.predict(X_test_scaled),average='weighted'),3)\n",
    "precision_dt=round(precision_score(y_test,DT.predict(X_test_scaled),average='weighted'),3)\n",
    "print('Accuracy:',Acc_dt)\n",
    "print('F1_Score:',f1_dt)\n",
    "print('Recall_Score:',recall_dt)\n",
    "print('Precision_Score:',precision_dt)\n",
    "print('Cross Validation Score:',round(np.mean(cross_val_score(DT, X_train_scaled, y_train, cv = 6)),3))\n",
    "classification=classification_report(\n",
    "    digits=4,\n",
    "    y_true=y_test,\n",
    "    y_pred=DT.predict(X_test_scaled))\n",
    "print(classification)\n",
    "fig, ax = plt.subplots(figsize=(10, 10))\n",
    "plot_confusion_matrix(DT,X_test_scaled,y_test,ax=ax)"
   ]
  },
  {
   "cell_type": "markdown",
   "id": "4ec18c8f",
   "metadata": {},
   "source": [
    "Gaussian Naive Bayes"
   ]
  },
  {
   "cell_type": "code",
   "execution_count": 89,
   "id": "676cde1e",
   "metadata": {},
   "outputs": [
    {
     "name": "stderr",
     "output_type": "stream",
     "text": [
      "C:\\Users\\91897\\anaconda3\\envs\\py37\\lib\\site-packages\\sklearn\\utils\\validation.py:63: DataConversionWarning: A column-vector y was passed when a 1d array was expected. Please change the shape of y to (n_samples, ), for example using ravel().\n",
      "  return f(*args, **kwargs)\n",
      "C:\\Users\\91897\\anaconda3\\envs\\py37\\lib\\site-packages\\sklearn\\utils\\validation.py:63: DataConversionWarning: A column-vector y was passed when a 1d array was expected. Please change the shape of y to (n_samples, ), for example using ravel().\n",
      "  return f(*args, **kwargs)\n"
     ]
    },
    {
     "name": "stdout",
     "output_type": "stream",
     "text": [
      "Accuracy: 0.926\n",
      "F1_Score: 0.926\n",
      "Recall_Score: 0.926\n",
      "Precision_Score: 0.927\n"
     ]
    },
    {
     "name": "stderr",
     "output_type": "stream",
     "text": [
      "C:\\Users\\91897\\anaconda3\\envs\\py37\\lib\\site-packages\\sklearn\\utils\\validation.py:63: DataConversionWarning: A column-vector y was passed when a 1d array was expected. Please change the shape of y to (n_samples, ), for example using ravel().\n",
      "  return f(*args, **kwargs)\n",
      "C:\\Users\\91897\\anaconda3\\envs\\py37\\lib\\site-packages\\sklearn\\utils\\validation.py:63: DataConversionWarning: A column-vector y was passed when a 1d array was expected. Please change the shape of y to (n_samples, ), for example using ravel().\n",
      "  return f(*args, **kwargs)\n",
      "C:\\Users\\91897\\anaconda3\\envs\\py37\\lib\\site-packages\\sklearn\\utils\\validation.py:63: DataConversionWarning: A column-vector y was passed when a 1d array was expected. Please change the shape of y to (n_samples, ), for example using ravel().\n",
      "  return f(*args, **kwargs)\n",
      "C:\\Users\\91897\\anaconda3\\envs\\py37\\lib\\site-packages\\sklearn\\utils\\validation.py:63: DataConversionWarning: A column-vector y was passed when a 1d array was expected. Please change the shape of y to (n_samples, ), for example using ravel().\n",
      "  return f(*args, **kwargs)\n",
      "C:\\Users\\91897\\anaconda3\\envs\\py37\\lib\\site-packages\\sklearn\\utils\\validation.py:63: DataConversionWarning: A column-vector y was passed when a 1d array was expected. Please change the shape of y to (n_samples, ), for example using ravel().\n",
      "  return f(*args, **kwargs)\n"
     ]
    },
    {
     "name": "stdout",
     "output_type": "stream",
     "text": [
      "Cross Validation Score: 0.928\n",
      "              precision    recall  f1-score   support\n",
      "\n",
      "           0     0.9111    0.9468    0.9286       790\n",
      "           1     0.9407    0.9047    0.9224      3401\n",
      "           2     0.9215    0.9348    0.9281      4342\n",
      "           3     0.9163    0.9507    0.9332      3730\n",
      "           4     0.9428    0.8837    0.9123      1659\n",
      "\n",
      "    accuracy                         0.9263     13922\n",
      "   macro avg     0.9265    0.9241    0.9249     13922\n",
      "weighted avg     0.9267    0.9263    0.9262     13922\n",
      "\n"
     ]
    },
    {
     "data": {
      "text/plain": [
       "<sklearn.metrics._plot.confusion_matrix.ConfusionMatrixDisplay at 0x23e61d50bc8>"
      ]
     },
     "execution_count": 89,
     "metadata": {},
     "output_type": "execute_result"
    },
    {
     "data": {
      "image/png": "[encoded data removed]",
      "text/plain": [
       "<Figure size 720x720 with 2 Axes>"
      ]
     },
     "metadata": {
      "needs_background": "light"
     },
     "output_type": "display_data"
    }
   ],
   "source": [
    "gb=GaussianNB().fit(X_train_scaled,y_train)\n",
    "Acc_gb=round(accuracy_score(y_test,gb.predict(X_test_scaled)),3)\n",
    "f1_gb=round(f1_score(y_test,gb.predict(X_test_scaled),average='weighted'),3)\n",
    "recall_gb=round(recall_score(y_test,gb.predict(X_test_scaled),average='weighted'),3)\n",
    "precision_gb=round(precision_score(y_test,gb.predict(X_test_scaled),average='weighted'),3)\n",
    "print('Accuracy:',Acc_gb)\n",
    "print('F1_Score:',f1_gb)\n",
    "print('Recall_Score:',recall_gb)\n",
    "print('Precision_Score:',precision_gb)\n",
    "print('Cross Validation Score:',round(np.mean(cross_val_score(gb, X_train_scaled, y_train, cv = 6)),3))\n",
    "classification=classification_report(\n",
    "    digits=4,\n",
    "    y_true=y_test,\n",
    "    y_pred=gb.predict(X_test_scaled))\n",
    "print(classification)\n",
    "fig, ax = plt.subplots(figsize=(10, 10))\n",
    "plot_confusion_matrix(gb,X_test_scaled,y_test,ax=ax)"
   ]
  },
  {
   "cell_type": "markdown",
   "id": "5bd0b776",
   "metadata": {},
   "source": [
    "Nearest Neighbour"
   ]
  },
  {
   "cell_type": "code",
   "execution_count": 90,
   "id": "3944249e",
   "metadata": {},
   "outputs": [
    {
     "name": "stderr",
     "output_type": "stream",
     "text": [
      "C:\\Users\\91897\\anaconda3\\envs\\py37\\lib\\site-packages\\sklearn\\neighbors\\_classification.py:179: DataConversionWarning: A column-vector y was passed when a 1d array was expected. Please change the shape of y to (n_samples,), for example using ravel().\n",
      "  return self._fit(X, y)\n"
     ]
    },
    {
     "name": "stdout",
     "output_type": "stream",
     "text": [
      "Accuracy: 0.925\n",
      "F1_Score: 0.925\n",
      "Recall_Score: 0.925\n",
      "Precision_Score: 0.929\n"
     ]
    },
    {
     "name": "stderr",
     "output_type": "stream",
     "text": [
      "C:\\Users\\91897\\anaconda3\\envs\\py37\\lib\\site-packages\\sklearn\\neighbors\\_classification.py:179: DataConversionWarning: A column-vector y was passed when a 1d array was expected. Please change the shape of y to (n_samples,), for example using ravel().\n",
      "  return self._fit(X, y)\n",
      "C:\\Users\\91897\\anaconda3\\envs\\py37\\lib\\site-packages\\sklearn\\neighbors\\_classification.py:179: DataConversionWarning: A column-vector y was passed when a 1d array was expected. Please change the shape of y to (n_samples,), for example using ravel().\n",
      "  return self._fit(X, y)\n",
      "C:\\Users\\91897\\anaconda3\\envs\\py37\\lib\\site-packages\\sklearn\\neighbors\\_classification.py:179: DataConversionWarning: A column-vector y was passed when a 1d array was expected. Please change the shape of y to (n_samples,), for example using ravel().\n",
      "  return self._fit(X, y)\n",
      "C:\\Users\\91897\\anaconda3\\envs\\py37\\lib\\site-packages\\sklearn\\neighbors\\_classification.py:179: DataConversionWarning: A column-vector y was passed when a 1d array was expected. Please change the shape of y to (n_samples,), for example using ravel().\n",
      "  return self._fit(X, y)\n",
      "C:\\Users\\91897\\anaconda3\\envs\\py37\\lib\\site-packages\\sklearn\\neighbors\\_classification.py:179: DataConversionWarning: A column-vector y was passed when a 1d array was expected. Please change the shape of y to (n_samples,), for example using ravel().\n",
      "  return self._fit(X, y)\n",
      "C:\\Users\\91897\\anaconda3\\envs\\py37\\lib\\site-packages\\sklearn\\neighbors\\_classification.py:179: DataConversionWarning: A column-vector y was passed when a 1d array was expected. Please change the shape of y to (n_samples,), for example using ravel().\n",
      "  return self._fit(X, y)\n"
     ]
    },
    {
     "name": "stdout",
     "output_type": "stream",
     "text": [
      "Cross Validation Score: 0.924\n",
      "              precision    recall  f1-score   support\n",
      "\n",
      "           0     0.7959    0.9924    0.8834       790\n",
      "           1     0.9700    0.8833    0.9246      3401\n",
      "           2     0.9195    0.9498    0.9344      4342\n",
      "           3     0.9565    0.8912    0.9227      3730\n",
      "           4     0.8718    0.9879    0.9263      1659\n",
      "\n",
      "    accuracy                         0.9248     13922\n",
      "   macro avg     0.9028    0.9409    0.9183     13922\n",
      "weighted avg     0.9291    0.9248    0.9250     13922\n",
      "\n"
     ]
    },
    {
     "data": {
      "text/plain": [
       "<sklearn.metrics._plot.confusion_matrix.ConfusionMatrixDisplay at 0x23e73d46548>"
      ]
     },
     "execution_count": 90,
     "metadata": {},
     "output_type": "execute_result"
    },
    {
     "data": {
      "image/png": "[encoded data removed]",
      "text/plain": [
       "<Figure size 720x720 with 2 Axes>"
      ]
     },
     "metadata": {
      "needs_background": "light"
     },
     "output_type": "display_data"
    }
   ],
   "source": [
    "knn=KNeighborsClassifier(n_neighbors=15).fit(X_train_scaled,y_train)\n",
    "Acc_knn=round(accuracy_score(y_test,knn.predict(X_test_scaled)),3)\n",
    "f1_knn=round(f1_score(y_test,knn.predict(X_test_scaled),average='weighted'),3)\n",
    "recall_knn=round(recall_score(y_test,knn.predict(X_test_scaled),average='weighted'),3)\n",
    "precision_knn=round(precision_score(y_test,knn.predict(X_test_scaled),average='weighted'),3)\n",
    "print('Accuracy:',Acc_knn)\n",
    "print('F1_Score:',f1_knn)\n",
    "print('Recall_Score:',recall_knn)\n",
    "print('Precision_Score:',precision_knn)\n",
    "print('Cross Validation Score:',round(np.mean(cross_val_score(knn, X_train_scaled, y_train, cv = 6)),3))\n",
    "classification=classification_report(\n",
    "    digits=4,\n",
    "    y_true=y_test,\n",
    "    y_pred=knn.predict(X_test_scaled))\n",
    "print(classification)\n",
    "fig, ax = plt.subplots(figsize=(10, 10))\n",
    "plot_confusion_matrix(knn,X_test_scaled,y_test,ax=ax)"
   ]
  },
  {
   "cell_type": "markdown",
   "id": "9f3a52b6",
   "metadata": {},
   "source": [
    "XG Boost"
   ]
  },
  {
   "cell_type": "code",
   "execution_count": 91,
   "id": "fd88b20f",
   "metadata": {},
   "outputs": [
    {
     "name": "stdout",
     "output_type": "stream",
     "text": [
      "Accuracy of Model:: 0.964947565005028\n",
      "F1_Score: 0.9649451671330705\n",
      "Recall_Score: 0.964947565005028\n",
      "Precision_Score: 0.9649605284528926\n"
     ]
    }
   ],
   "source": [
    "xgb_classifier = xgb.XGBClassifier()\n",
    "xgb_classifier.fit(X_train_scaled,y_train)\n",
    "predictions = xgb_classifier.predict(X_test_scaled)\n",
    "\n",
    "print(\"Accuracy of Model::\",accuracy_score(y_test,predictions))\n",
    "print('F1_Score:',f1_score(y_test,predictions,average='weighted'))\n",
    "print('Recall_Score:',recall_score(y_test,predictions,average='weighted'))\n",
    "print('Precision_Score:',precision_score(y_test,predictions,average='weighted'))\n",
    "\n",
    "Accuracy_xg = accuracy_score(y_test,predictions)"
   ]
  },
  {
   "cell_type": "code",
   "execution_count": 92,
   "id": "6059b278",
   "metadata": {},
   "outputs": [],
   "source": [
    "classifier=['Random Forest', 'Decision Trees', 'Gaussian Naive Bayes', 'Nearest Neighbour', 'XG Boost']\n",
    "accuracy=[Acc_ran,Acc_dt,Acc_gb,Acc_knn,Accuracy_xg]\n",
    "df2 = pd.DataFrame(classifier, columns=['Classifier'])\n",
    "df2['accuracy']=accuracy"
   ]
  },
  {
   "cell_type": "code",
   "execution_count": 93,
   "id": "0b0a4c00",
   "metadata": {},
   "outputs": [
    {
     "data": {
      "text/plain": [
       "<AxesSubplot:xlabel='accuracy', ylabel='Classifier'>"
      ]
     },
     "execution_count": 93,
     "metadata": {},
     "output_type": "execute_result"
    },
    {
     "data": {
      "image/png": "[encoded data removed]",
      "text/plain": [
       "<Figure size 432x288 with 1 Axes>"
      ]
     },
     "metadata": {
      "needs_background": "light"
     },
     "output_type": "display_data"
    }
   ],
   "source": [
    "sns.barplot(y = 'Classifier',\n",
    "            x = 'accuracy',\n",
    "            data = df2,orient='h')"
   ]
  },
  {
   "cell_type": "markdown",
   "id": "4ec49adb",
   "metadata": {},
   "source": [
    "# Model for Anxiety "
   ]
  },
  {
   "cell_type": "code",
   "execution_count": 96,
   "id": "b4af1b37",
   "metadata": {},
   "outputs": [],
   "source": [
    "scaler=MinMaxScaler()\n",
    "X=anxiety[['Q2A', 'Q4A', 'Q7A', 'Q9A', 'Q15A', 'Q19A', 'Q20A', 'Q23A', 'Q25A',\n",
    "       'Q28A', 'Q30A', 'Q36A', 'Q40A', 'Q41A']]\n",
    "y=anxiety[['Condition']]\n",
    "X_train,X_test,y_train,y_test=train_test_split(X,y,test_size=0.35,random_state=0)\n",
    "X_train_scaled = scaler.fit_transform(X_train)\n",
    "X_test_scaled = scaler.transform(X_test)"
   ]
  },
  {
   "cell_type": "code",
   "execution_count": null,
   "id": "6207ddb2",
   "metadata": {},
   "outputs": [],
   "source": []
  },
  {
   "cell_type": "markdown",
   "id": "705efc86",
   "metadata": {},
   "source": [
    "Random Forest"
   ]
  },
  {
   "cell_type": "code",
   "execution_count": 97,
   "id": "4e84ce72",
   "metadata": {},
   "outputs": [
    {
     "name": "stderr",
     "output_type": "stream",
     "text": [
      "C:\\Users\\91897\\anaconda3\\envs\\py37\\lib\\site-packages\\ipykernel_launcher.py:1: DataConversionWarning: A column-vector y was passed when a 1d array was expected. Please change the shape of y to (n_samples,), for example using ravel().\n",
      "  \"\"\"Entry point for launching an IPython kernel.\n"
     ]
    },
    {
     "name": "stdout",
     "output_type": "stream",
     "text": [
      "Accuracy: 0.942\n",
      "F1_Score: 0.942\n",
      "Recall_Score: 0.942\n",
      "Precision_Score: 0.942\n"
     ]
    },
    {
     "name": "stderr",
     "output_type": "stream",
     "text": [
      "C:\\Users\\91897\\anaconda3\\envs\\py37\\lib\\site-packages\\sklearn\\model_selection\\_validation.py:593: DataConversionWarning: A column-vector y was passed when a 1d array was expected. Please change the shape of y to (n_samples,), for example using ravel().\n",
      "  estimator.fit(X_train, y_train, **fit_params)\n",
      "C:\\Users\\91897\\anaconda3\\envs\\py37\\lib\\site-packages\\sklearn\\model_selection\\_validation.py:593: DataConversionWarning: A column-vector y was passed when a 1d array was expected. Please change the shape of y to (n_samples,), for example using ravel().\n",
      "  estimator.fit(X_train, y_train, **fit_params)\n",
      "C:\\Users\\91897\\anaconda3\\envs\\py37\\lib\\site-packages\\sklearn\\model_selection\\_validation.py:593: DataConversionWarning: A column-vector y was passed when a 1d array was expected. Please change the shape of y to (n_samples,), for example using ravel().\n",
      "  estimator.fit(X_train, y_train, **fit_params)\n",
      "C:\\Users\\91897\\anaconda3\\envs\\py37\\lib\\site-packages\\sklearn\\model_selection\\_validation.py:593: DataConversionWarning: A column-vector y was passed when a 1d array was expected. Please change the shape of y to (n_samples,), for example using ravel().\n",
      "  estimator.fit(X_train, y_train, **fit_params)\n",
      "C:\\Users\\91897\\anaconda3\\envs\\py37\\lib\\site-packages\\sklearn\\model_selection\\_validation.py:593: DataConversionWarning: A column-vector y was passed when a 1d array was expected. Please change the shape of y to (n_samples,), for example using ravel().\n",
      "  estimator.fit(X_train, y_train, **fit_params)\n",
      "C:\\Users\\91897\\anaconda3\\envs\\py37\\lib\\site-packages\\sklearn\\model_selection\\_validation.py:593: DataConversionWarning: A column-vector y was passed when a 1d array was expected. Please change the shape of y to (n_samples,), for example using ravel().\n",
      "  estimator.fit(X_train, y_train, **fit_params)\n"
     ]
    },
    {
     "name": "stdout",
     "output_type": "stream",
     "text": [
      "Cross Validation Score: 0.939\n",
      "              precision    recall  f1-score   support\n",
      "\n",
      "           0     0.9536    0.9654    0.9595      1939\n",
      "           1     0.9467    0.9594    0.9530      4945\n",
      "           2     0.9241    0.9369    0.9305      3978\n",
      "           3     0.9447    0.9101    0.9271      2348\n",
      "           4     0.9770    0.8961    0.9348       712\n",
      "\n",
      "    accuracy                         0.9422     13922\n",
      "   macro avg     0.9493    0.9336    0.9410     13922\n",
      "weighted avg     0.9424    0.9422    0.9422     13922\n",
      "\n"
     ]
    },
    {
     "data": {
      "text/plain": [
       "<sklearn.metrics._plot.confusion_matrix.ConfusionMatrixDisplay at 0x23e714e7f08>"
      ]
     },
     "execution_count": 97,
     "metadata": {},
     "output_type": "execute_result"
    },
    {
     "data": {
      "image/png": "[encoded data removed]",
      "text/plain": [
       "<Figure size 720x720 with 2 Axes>"
      ]
     },
     "metadata": {
      "needs_background": "light"
     },
     "output_type": "display_data"
    }
   ],
   "source": [
    "RanFor=RandomForestClassifier(n_estimators=190,min_samples_split=3,min_samples_leaf=1,max_depth=160,max_features='auto').fit(X_train_scaled,y_train)\n",
    "Acc_ran=round(accuracy_score(y_test,RanFor.predict(X_test_scaled)),3)\n",
    "f1_ran=round(f1_score(y_test,RanFor.predict(X_test_scaled),average='weighted'),3)\n",
    "recall_ran=round(recall_score(y_test,RanFor.predict(X_test_scaled),average='weighted'),3)\n",
    "precision_ran=round(precision_score(y_test,RanFor.predict(X_test_scaled),average='weighted'),3)\n",
    "print('Accuracy:',Acc_ran)\n",
    "print('F1_Score:',f1_ran)\n",
    "print('Recall_Score:',recall_ran)\n",
    "print('Precision_Score:',precision_ran)\n",
    "print('Cross Validation Score:',round(np.mean(cross_val_score(RanFor, X_train_scaled, y_train, cv = 6)),3))\n",
    "classification=classification_report(\n",
    "    digits=4,\n",
    "    y_true=y_test,\n",
    "    y_pred=RanFor.predict(X_test_scaled))\n",
    "print(classification)\n",
    "fig, ax = plt.subplots(figsize=(10, 10))\n",
    "plot_confusion_matrix(RanFor,X_test_scaled,y_test,ax=ax)"
   ]
  },
  {
   "cell_type": "markdown",
   "id": "7cab4455",
   "metadata": {},
   "source": [
    "Decision Tree"
   ]
  },
  {
   "cell_type": "code",
   "execution_count": 98,
   "id": "7d8a4e67",
   "metadata": {},
   "outputs": [
    {
     "name": "stdout",
     "output_type": "stream",
     "text": [
      "Accuracy: 0.823\n",
      "F1_Score: 0.823\n",
      "Recall_Score: 0.823\n",
      "Precision_Score: 0.823\n",
      "Cross Validation Score: 0.819\n",
      "              precision    recall  f1-score   support\n",
      "\n",
      "           0     0.8696    0.9113    0.8900      1939\n",
      "           1     0.8543    0.8584    0.8564      4945\n",
      "           2     0.7742    0.7755    0.7748      3978\n",
      "           3     0.7915    0.7568    0.7738      2348\n",
      "           4     0.8466    0.8216    0.8339       712\n",
      "\n",
      "    accuracy                         0.8231     13922\n",
      "   macro avg     0.8272    0.8247    0.8258     13922\n",
      "weighted avg     0.8225    0.8231    0.8227     13922\n",
      "\n"
     ]
    },
    {
     "data": {
      "text/plain": [
       "<sklearn.metrics._plot.confusion_matrix.ConfusionMatrixDisplay at 0x23e616b90c8>"
      ]
     },
     "execution_count": 98,
     "metadata": {},
     "output_type": "execute_result"
    },
    {
     "data": {
      "image/png": "[encoded data removed]",
      "text/plain": [
       "<Figure size 720x720 with 2 Axes>"
      ]
     },
     "metadata": {
      "needs_background": "light"
     },
     "output_type": "display_data"
    }
   ],
   "source": [
    "DT=DecisionTreeClassifier(criterion='entropy',splitter='best',min_samples_split=9,min_samples_leaf=2,max_depth=100).fit(X_train_scaled,y_train)\n",
    "Acc_dt=round(accuracy_score(y_test,DT.predict(X_test_scaled)),3)\n",
    "f1_dt=round(f1_score(y_test,DT.predict(X_test_scaled),average='weighted'),3)\n",
    "recall_dt=round(recall_score(y_test,DT.predict(X_test_scaled),average='weighted'),3)\n",
    "precision_dt=round(precision_score(y_test,DT.predict(X_test_scaled),average='weighted'),3)\n",
    "print('Accuracy:',Acc_dt)\n",
    "print('F1_Score:',f1_dt)\n",
    "print('Recall_Score:',recall_dt)\n",
    "print('Precision_Score:',precision_dt)\n",
    "print('Cross Validation Score:',round(np.mean(cross_val_score(DT, X_train_scaled, y_train, cv = 6)),3))\n",
    "classification=classification_report(\n",
    "    digits=4,\n",
    "    y_true=y_test,\n",
    "    y_pred=DT.predict(X_test_scaled))\n",
    "print(classification)\n",
    "fig, ax = plt.subplots(figsize=(10, 10))\n",
    "plot_confusion_matrix(DT,X_test_scaled,y_test,ax=ax)"
   ]
  },
  {
   "cell_type": "markdown",
   "id": "4b5ac0d3",
   "metadata": {},
   "source": [
    "Gaussian Naive Bayes"
   ]
  },
  {
   "cell_type": "code",
   "execution_count": 99,
   "id": "442184d7",
   "metadata": {},
   "outputs": [
    {
     "name": "stderr",
     "output_type": "stream",
     "text": [
      "C:\\Users\\91897\\anaconda3\\envs\\py37\\lib\\site-packages\\sklearn\\utils\\validation.py:63: DataConversionWarning: A column-vector y was passed when a 1d array was expected. Please change the shape of y to (n_samples, ), for example using ravel().\n",
      "  return f(*args, **kwargs)\n",
      "C:\\Users\\91897\\anaconda3\\envs\\py37\\lib\\site-packages\\sklearn\\utils\\validation.py:63: DataConversionWarning: A column-vector y was passed when a 1d array was expected. Please change the shape of y to (n_samples, ), for example using ravel().\n",
      "  return f(*args, **kwargs)\n",
      "C:\\Users\\91897\\anaconda3\\envs\\py37\\lib\\site-packages\\sklearn\\utils\\validation.py:63: DataConversionWarning: A column-vector y was passed when a 1d array was expected. Please change the shape of y to (n_samples, ), for example using ravel().\n",
      "  return f(*args, **kwargs)\n"
     ]
    },
    {
     "name": "stdout",
     "output_type": "stream",
     "text": [
      "Accuracy: 0.9\n",
      "F1_Score: 0.9\n",
      "Recall_Score: 0.9\n",
      "Precision_Score: 0.901\n"
     ]
    },
    {
     "name": "stderr",
     "output_type": "stream",
     "text": [
      "C:\\Users\\91897\\anaconda3\\envs\\py37\\lib\\site-packages\\sklearn\\utils\\validation.py:63: DataConversionWarning: A column-vector y was passed when a 1d array was expected. Please change the shape of y to (n_samples, ), for example using ravel().\n",
      "  return f(*args, **kwargs)\n",
      "C:\\Users\\91897\\anaconda3\\envs\\py37\\lib\\site-packages\\sklearn\\utils\\validation.py:63: DataConversionWarning: A column-vector y was passed when a 1d array was expected. Please change the shape of y to (n_samples, ), for example using ravel().\n",
      "  return f(*args, **kwargs)\n",
      "C:\\Users\\91897\\anaconda3\\envs\\py37\\lib\\site-packages\\sklearn\\utils\\validation.py:63: DataConversionWarning: A column-vector y was passed when a 1d array was expected. Please change the shape of y to (n_samples, ), for example using ravel().\n",
      "  return f(*args, **kwargs)\n",
      "C:\\Users\\91897\\anaconda3\\envs\\py37\\lib\\site-packages\\sklearn\\utils\\validation.py:63: DataConversionWarning: A column-vector y was passed when a 1d array was expected. Please change the shape of y to (n_samples, ), for example using ravel().\n",
      "  return f(*args, **kwargs)\n"
     ]
    },
    {
     "name": "stdout",
     "output_type": "stream",
     "text": [
      "Cross Validation Score: 0.902\n",
      "              precision    recall  f1-score   support\n",
      "\n",
      "           0     0.8633    0.8989    0.8807      1939\n",
      "           1     0.9229    0.8758    0.8987      4945\n",
      "           2     0.8794    0.9346    0.9062      3978\n",
      "           3     0.9208    0.9012    0.9109      2348\n",
      "           4     0.9123    0.8764    0.8940       712\n",
      "\n",
      "    accuracy                         0.9002     13922\n",
      "   macro avg     0.8997    0.8974    0.8981     13922\n",
      "weighted avg     0.9013    0.9002    0.9002     13922\n",
      "\n"
     ]
    },
    {
     "data": {
      "text/plain": [
       "<sklearn.metrics._plot.confusion_matrix.ConfusionMatrixDisplay at 0x23e61bb7bc8>"
      ]
     },
     "execution_count": 99,
     "metadata": {},
     "output_type": "execute_result"
    },
    {
     "data": {
      "image/png": "[encoded data removed]",
      "text/plain": [
       "<Figure size 720x720 with 2 Axes>"
      ]
     },
     "metadata": {
      "needs_background": "light"
     },
     "output_type": "display_data"
    }
   ],
   "source": [
    "gb=GaussianNB().fit(X_train_scaled,y_train)\n",
    "Acc_gb=round(accuracy_score(y_test,gb.predict(X_test_scaled)),3)\n",
    "f1_gb=round(f1_score(y_test,gb.predict(X_test_scaled),average='weighted'),3)\n",
    "recall_gb=round(recall_score(y_test,gb.predict(X_test_scaled),average='weighted'),3)\n",
    "precision_gb=round(precision_score(y_test,gb.predict(X_test_scaled),average='weighted'),3)\n",
    "print('Accuracy:',Acc_gb)\n",
    "print('F1_Score:',f1_gb)\n",
    "print('Recall_Score:',recall_gb)\n",
    "print('Precision_Score:',precision_gb)\n",
    "print('Cross Validation Score:',round(np.mean(cross_val_score(gb, X_train_scaled, y_train, cv = 6)),3))\n",
    "classification=classification_report(\n",
    "    digits=4,\n",
    "    y_true=y_test,\n",
    "    y_pred=gb.predict(X_test_scaled))\n",
    "print(classification)\n",
    "fig, ax = plt.subplots(figsize=(10, 10))\n",
    "plot_confusion_matrix(gb,X_test_scaled,y_test,ax=ax)"
   ]
  },
  {
   "cell_type": "markdown",
   "id": "039c7c3d",
   "metadata": {},
   "source": [
    "Nearest Neighbour"
   ]
  },
  {
   "cell_type": "code",
   "execution_count": 100,
   "id": "dae024c2",
   "metadata": {},
   "outputs": [
    {
     "name": "stderr",
     "output_type": "stream",
     "text": [
      "C:\\Users\\91897\\anaconda3\\envs\\py37\\lib\\site-packages\\sklearn\\neighbors\\_classification.py:179: DataConversionWarning: A column-vector y was passed when a 1d array was expected. Please change the shape of y to (n_samples,), for example using ravel().\n",
      "  return self._fit(X, y)\n"
     ]
    },
    {
     "name": "stdout",
     "output_type": "stream",
     "text": [
      "Accuracy: 0.916\n",
      "F1_Score: 0.916\n",
      "Recall_Score: 0.916\n",
      "Precision_Score: 0.92\n"
     ]
    },
    {
     "name": "stderr",
     "output_type": "stream",
     "text": [
      "C:\\Users\\91897\\anaconda3\\envs\\py37\\lib\\site-packages\\sklearn\\neighbors\\_classification.py:179: DataConversionWarning: A column-vector y was passed when a 1d array was expected. Please change the shape of y to (n_samples,), for example using ravel().\n",
      "  return self._fit(X, y)\n",
      "C:\\Users\\91897\\anaconda3\\envs\\py37\\lib\\site-packages\\sklearn\\neighbors\\_classification.py:179: DataConversionWarning: A column-vector y was passed when a 1d array was expected. Please change the shape of y to (n_samples,), for example using ravel().\n",
      "  return self._fit(X, y)\n",
      "C:\\Users\\91897\\anaconda3\\envs\\py37\\lib\\site-packages\\sklearn\\neighbors\\_classification.py:179: DataConversionWarning: A column-vector y was passed when a 1d array was expected. Please change the shape of y to (n_samples,), for example using ravel().\n",
      "  return self._fit(X, y)\n",
      "C:\\Users\\91897\\anaconda3\\envs\\py37\\lib\\site-packages\\sklearn\\neighbors\\_classification.py:179: DataConversionWarning: A column-vector y was passed when a 1d array was expected. Please change the shape of y to (n_samples,), for example using ravel().\n",
      "  return self._fit(X, y)\n",
      "C:\\Users\\91897\\anaconda3\\envs\\py37\\lib\\site-packages\\sklearn\\neighbors\\_classification.py:179: DataConversionWarning: A column-vector y was passed when a 1d array was expected. Please change the shape of y to (n_samples,), for example using ravel().\n",
      "  return self._fit(X, y)\n",
      "C:\\Users\\91897\\anaconda3\\envs\\py37\\lib\\site-packages\\sklearn\\neighbors\\_classification.py:179: DataConversionWarning: A column-vector y was passed when a 1d array was expected. Please change the shape of y to (n_samples,), for example using ravel().\n",
      "  return self._fit(X, y)\n"
     ]
    },
    {
     "name": "stdout",
     "output_type": "stream",
     "text": [
      "Cross Validation Score: 0.915\n",
      "              precision    recall  f1-score   support\n",
      "\n",
      "           0     0.8140    0.9954    0.8956      1939\n",
      "           1     0.9302    0.9007    0.9152      4945\n",
      "           2     0.9477    0.8977    0.9220      3978\n",
      "           3     0.9525    0.8965    0.9237      2348\n",
      "           4     0.8777    0.9677    0.9205       712\n",
      "\n",
      "    accuracy                         0.9157     13922\n",
      "   macro avg     0.9044    0.9316    0.9154     13922\n",
      "weighted avg     0.9201    0.9157    0.9161     13922\n",
      "\n"
     ]
    },
    {
     "data": {
      "text/plain": [
       "<sklearn.metrics._plot.confusion_matrix.ConfusionMatrixDisplay at 0x23e61331648>"
      ]
     },
     "execution_count": 100,
     "metadata": {},
     "output_type": "execute_result"
    },
    {
     "data": {
      "image/png": "[encoded data removed]",
      "text/plain": [
       "<Figure size 720x720 with 2 Axes>"
      ]
     },
     "metadata": {
      "needs_background": "light"
     },
     "output_type": "display_data"
    }
   ],
   "source": [
    "knn=KNeighborsClassifier(n_neighbors=15).fit(X_train_scaled,y_train)\n",
    "Acc_knn=round(accuracy_score(y_test,knn.predict(X_test_scaled)),3)\n",
    "f1_knn=round(f1_score(y_test,knn.predict(X_test_scaled),average='weighted'),3)\n",
    "recall_knn=round(recall_score(y_test,knn.predict(X_test_scaled),average='weighted'),3)\n",
    "precision_knn=round(precision_score(y_test,knn.predict(X_test_scaled),average='weighted'),3)\n",
    "print('Accuracy:',Acc_knn)\n",
    "print('F1_Score:',f1_knn)\n",
    "print('Recall_Score:',recall_knn)\n",
    "print('Precision_Score:',precision_knn)\n",
    "print('Cross Validation Score:',round(np.mean(cross_val_score(knn, X_train_scaled, y_train, cv = 6)),3))\n",
    "classification=classification_report(\n",
    "    digits=4,\n",
    "    y_true=y_test,\n",
    "    y_pred=knn.predict(X_test_scaled))\n",
    "print(classification)\n",
    "fig, ax = plt.subplots(figsize=(10, 10))\n",
    "plot_confusion_matrix(knn,X_test_scaled,y_test,ax=ax)"
   ]
  },
  {
   "cell_type": "markdown",
   "id": "2ad5ad12",
   "metadata": {},
   "source": [
    "XG Boost"
   ]
  },
  {
   "cell_type": "code",
   "execution_count": 101,
   "id": "cc3e2388",
   "metadata": {},
   "outputs": [
    {
     "name": "stdout",
     "output_type": "stream",
     "text": [
      "Accuracy of Model:: 0.9686826605372791\n",
      "F1_Score: 0.9686376135167606\n",
      "Recall_Score: 0.9686826605372791\n",
      "Precision_Score: 0.9686353233018936\n"
     ]
    }
   ],
   "source": [
    "xgb_classifier = xgb.XGBClassifier()\n",
    "xgb_classifier.fit(X_train_scaled,y_train)\n",
    "predictions = xgb_classifier.predict(X_test_scaled)\n",
    "\n",
    "print(\"Accuracy of Model::\",accuracy_score(y_test,predictions))\n",
    "print('F1_Score:',f1_score(y_test,predictions,average='weighted'))\n",
    "print('Recall_Score:',recall_score(y_test,predictions,average='weighted'))\n",
    "print('Precision_Score:',precision_score(y_test,predictions,average='weighted'))\n",
    "\n",
    "Accuracy_xg = accuracy_score(y_test,predictions)\n"
   ]
  },
  {
   "cell_type": "code",
   "execution_count": 102,
   "id": "3104b4ae",
   "metadata": {},
   "outputs": [],
   "source": [
    "classifier=['Random Forest', 'Decision Trees', 'Gaussian Naive Bayes', 'Nearest Neighbour', 'XG Boost']\n",
    "accuracy=[Acc_ran,Acc_dt,Acc_gb,Acc_knn,Accuracy_xg]\n",
    "df2 = pd.DataFrame(classifier, columns=['Classifier'])\n",
    "df2['accuracy']=accuracy"
   ]
  },
  {
   "cell_type": "code",
   "execution_count": 104,
   "id": "02d6515a",
   "metadata": {},
   "outputs": [],
   "source": [
    "classifier=['Random Forest', 'Decision Trees', 'Gaussian Naive Bayes', 'Nearest Neighbour', 'XG Boost']\n",
    "accuracy=[Acc_ran,Acc_dt,Acc_gb,Acc_knn,Accuracy_xg]\n",
    "df3 = pd.DataFrame(classifier, columns=['Classifier'])\n",
    "df3['accuracy']=accuracy"
   ]
  },
  {
   "cell_type": "code",
   "execution_count": 105,
   "id": "7179d87e",
   "metadata": {},
   "outputs": [
    {
     "data": {
      "text/plain": [
       "<AxesSubplot:xlabel='accuracy', ylabel='Classifier'>"
      ]
     },
     "execution_count": 105,
     "metadata": {},
     "output_type": "execute_result"
    },
    {
     "data": {
      "image/png": "[encoded data removed]",
      "text/plain": [
       "<Figure size 432x288 with 1 Axes>"
      ]
     },
     "metadata": {
      "needs_background": "light"
     },
     "output_type": "display_data"
    }
   ],
   "source": [
    "sns.barplot(y = 'Classifier',\n",
    "            x = 'accuracy',\n",
    "            data = df3,orient='h')"
   ]
  },
  {
   "cell_type": "code",
   "execution_count": null,
   "id": "cff4199b",
   "metadata": {},
   "outputs": [],
   "source": []
  }
 ],
 "metadata": {
  "kernelspec": {
   "display_name": "Python 3",
   "language": "python",
   "name": "python3"
  },
  "language_info": {
   "codemirror_mode": {
    "name": "ipython",
    "version": 3
   },
   "file_extension": ".py",
   "mimetype": "text/x-python",
   "name": "python",
   "nbconvert_exporter": "python",
   "pygments_lexer": "ipython3",
   "version": "3.7.10"
  }
 },
 "nbformat": 4,
 "nbformat_minor": 5
}
